{
  "cells":[
    {
      "cell_type":"markdown",
      "source":[
        "# Setup and Context"
      ],
      "attachments":{
        
      },
      "metadata":{
        
      }
    },
    {
      "cell_type":"markdown",
      "source":[
        "### Introduction\n",
        "\n",
        "On November 27, 1895, Alfred Nobel signed his last will in Paris. When it was opened after his death, the will caused a lot of controversy, as Nobel had left much of his wealth for the establishment of a prize.\n",
        "\n",
        "Alfred Nobel dictates that his entire remaining estate should be used to endow “prizes to those who, during the preceding year, have conferred the greatest benefit to humankind”.\n",
        "\n",
        "Every year the Nobel Prize is given to scientists and scholars in the categories chemistry, literature, physics, physiology or medicine, economics, and peace. \n",
        "\n",
        "<img src=https:\/\/i.imgur.com\/36pCx5Q.jpg>\n",
        "\n",
        "Let's see what patterns we can find in the data of the past Nobel laureates. What can we learn about the Nobel prize and our world more generally?"
      ],
      "attachments":{
        
      },
      "metadata":{
        
      }
    },
    {
      "cell_type":"markdown",
      "source":[
        "### Upgrade plotly (only Google Colab Notebook)\n",
        "\n",
        "Google Colab may not be running the latest version of plotly. If you're working in Google Colab, uncomment the line below, run the cell, and restart your notebook server. "
      ],
      "attachments":{
        
      },
      "metadata":{
        
      }
    },
    {
      "cell_type":"code",
      "source":[
        "# %pip install --upgrade plotly"
      ],
      "execution_count":17,
      "outputs":[
        
      ],
      "metadata":{
        
      }
    },
    {
      "cell_type":"markdown",
      "source":[
        "### Import Statements"
      ],
      "attachments":{
        
      },
      "metadata":{
        
      }
    },
    {
      "cell_type":"code",
      "source":[
        "import pandas as pd\n",
        "import numpy as np\n",
        "import plotly.express as px\n",
        "import seaborn as sns\n",
        "import matplotlib.pyplot as plt"
      ],
      "execution_count":18,
      "outputs":[
        
      ],
      "metadata":{
        
      }
    },
    {
      "cell_type":"markdown",
      "source":[
        "### Notebook Presentation"
      ],
      "attachments":{
        
      },
      "metadata":{
        
      }
    },
    {
      "cell_type":"code",
      "source":[
        "pd.options.display.float_format = '{:,.2f}'.format"
      ],
      "execution_count":19,
      "outputs":[
        
      ],
      "metadata":{
        
      }
    },
    {
      "cell_type":"markdown",
      "source":[
        "### Read the Data"
      ],
      "attachments":{
        
      },
      "metadata":{
        
      }
    },
    {
      "cell_type":"code",
      "source":[
        "df_data = pd.read_csv('nobel_prize_data.csv')"
      ],
      "execution_count":20,
      "outputs":[
        
      ],
      "metadata":{
        
      }
    },
    {
      "cell_type":"markdown",
      "source":[
        "Caveats: The exact birth dates for Michael Houghton, Venkatraman Ramakrishnan, and Nadia Murad are unknown. I've substituted them with mid-year estimate of July 2nd. "
      ],
      "attachments":{
        
      },
      "metadata":{
        
      }
    },
    {
      "cell_type":"markdown",
      "source":[
        "# Data Exploration & Cleaning\n",
        "\n",
        "**Challenge**: Preliminary data exploration. \n",
        "* What is the shape of `df_data`? How many rows and columns?\n",
        "* What are the column names?\n",
        "* In which year was the Nobel prize first awarded?\n",
        "* Which year is the latest year included in the dataset?"
      ],
      "attachments":{
        
      },
      "metadata":{
        
      }
    },
    {
      "cell_type":"code",
      "source":[
        "df_data.info()"
      ],
      "execution_count":21,
      "outputs":[
        {
          "name":"stdout",
          "text":[
            "<class 'pandas.core.frame.DataFrame'>\n",
            "RangeIndex: 962 entries, 0 to 961\n",
            "Data columns (total 16 columns):\n",
            " #   Column                 Non-Null Count  Dtype \n",
            "---  ------                 --------------  ----- \n",
            " 0   year                   962 non-null    int64 \n",
            " 1   category               962 non-null    object\n",
            " 2   prize                  962 non-null    object\n",
            " 3   motivation             874 non-null    object\n",
            " 4   prize_share            962 non-null    object\n",
            " 5   laureate_type          962 non-null    object\n",
            " 6   full_name              962 non-null    object\n",
            " 7   birth_date             934 non-null    object\n",
            " 8   birth_city             931 non-null    object\n",
            " 9   birth_country          934 non-null    object\n",
            " 10  birth_country_current  934 non-null    object\n",
            " 11  sex                    934 non-null    object\n",
            " 12  organization_name      707 non-null    object\n",
            " 13  organization_city      707 non-null    object\n",
            " 14  organization_country   708 non-null    object\n",
            " 15  ISO                    934 non-null    object\n",
            "dtypes: int64(1), object(15)\n",
            "memory usage: 120.4+ KB\n"
          ],
          "output_type":"stream"
        }
      ],
      "metadata":{
        
      }
    },
    {
      "cell_type":"code",
      "source":[
        "df_data.sample()"
      ],
      "execution_count":22,
      "outputs":[
        {
          "data":{
            "text\/html":[
              "<div>\n",
              "<style scoped>\n",
              "    .dataframe tbody tr th:only-of-type {\n",
              "        vertical-align: middle;\n",
              "    }\n",
              "\n",
              "    .dataframe tbody tr th {\n",
              "        vertical-align: top;\n",
              "    }\n",
              "\n",
              "    .dataframe thead th {\n",
              "        text-align: right;\n",
              "    }\n",
              "<\/style>\n",
              "<table border=\"1\" class=\"dataframe\">\n",
              "  <thead>\n",
              "    <tr style=\"text-align: right;\">\n",
              "      <th><\/th>\n",
              "      <th>year<\/th>\n",
              "      <th>category<\/th>\n",
              "      <th>prize<\/th>\n",
              "      <th>motivation<\/th>\n",
              "      <th>prize_share<\/th>\n",
              "      <th>laureate_type<\/th>\n",
              "      <th>full_name<\/th>\n",
              "      <th>birth_date<\/th>\n",
              "      <th>birth_city<\/th>\n",
              "      <th>birth_country<\/th>\n",
              "      <th>birth_country_current<\/th>\n",
              "      <th>sex<\/th>\n",
              "      <th>organization_name<\/th>\n",
              "      <th>organization_city<\/th>\n",
              "      <th>organization_country<\/th>\n",
              "      <th>ISO<\/th>\n",
              "    <\/tr>\n",
              "  <\/thead>\n",
              "  <tbody>\n",
              "    <tr>\n",
              "      <th>887<\/th>\n",
              "      <td>2014<\/td>\n",
              "      <td>Physics<\/td>\n",
              "      <td>The Nobel Prize in Physics 2014<\/td>\n",
              "      <td>\"for the invention of efficient blue light-emi...<\/td>\n",
              "      <td>1\/3<\/td>\n",
              "      <td>Individual<\/td>\n",
              "      <td>Isamu Akasaki<\/td>\n",
              "      <td>1929-01-30<\/td>\n",
              "      <td>Chiran<\/td>\n",
              "      <td>Japan<\/td>\n",
              "      <td>Japan<\/td>\n",
              "      <td>Male<\/td>\n",
              "      <td>Meijo University<\/td>\n",
              "      <td>Nagoya<\/td>\n",
              "      <td>Japan<\/td>\n",
              "      <td>JPN<\/td>\n",
              "    <\/tr>\n",
              "  <\/tbody>\n",
              "<\/table>\n",
              "<\/div>"
            ]
          },
          "metadata":{
            
          },
          "output_type":"display_data"
        }
      ],
      "metadata":{
        
      }
    },
    {
      "cell_type":"code",
      "source":[
        "df_data.shape"
      ],
      "execution_count":23,
      "outputs":[
        {
          "data":{
            "text\/plain":[
              "(962, 16)"
            ]
          },
          "metadata":{
            
          },
          "output_type":"display_data"
        }
      ],
      "metadata":{
        
      }
    },
    {
      "cell_type":"code",
      "source":[
        "print(f'First noble prize was awarded in {df_data.year.values.min()}.') \n",
        "print(f'The last year that is included in datataset {df_data.year.values.max()}.')"
      ],
      "execution_count":24,
      "outputs":[
        {
          "name":"stdout",
          "text":[
            "First noble prize was awarded in 1901.\n",
            "The last year that is included in datataset 2020.\n"
          ],
          "output_type":"stream"
        }
      ],
      "metadata":{
        
      }
    },
    {
      "cell_type":"markdown",
      "source":[
        "**Challange**: \n",
        "* Are there any duplicate values in the dataset?\n",
        "* Are there NaN values in the dataset?\n",
        "* Which columns tend to have NaN values?\n",
        "* How many NaN values are there per column? \n",
        "* Why do these columns have NaN values?  "
      ],
      "attachments":{
        
      },
      "metadata":{
        
      }
    },
    {
      "cell_type":"markdown",
      "source":[
        "### Check for Duplicates"
      ],
      "attachments":{
        
      },
      "metadata":{
        
      }
    },
    {
      "cell_type":"code",
      "source":[
        "df_data.duplicated().value_counts() # There is no duplicated rows."
      ],
      "execution_count":25,
      "outputs":[
        {
          "data":{
            "text\/html":[
              
            ]
          },
          "metadata":{
            
          },
          "output_type":"display_data"
        }
      ],
      "metadata":{
        
      }
    },
    {
      "cell_type":"code",
      "source":[
        "df_data.isna().values.sum() # 1023 Nan values is na dataset."
      ],
      "execution_count":26,
      "outputs":[
        {
          "data":{
            "text\/plain":[
              "1023"
            ]
          },
          "metadata":{
            
          },
          "output_type":"display_data"
        }
      ],
      "metadata":{
        
      }
    },
    {
      "cell_type":"code",
      "source":[
        "df_data.isna().sum() # NaN values for every column."
      ],
      "execution_count":27,
      "outputs":[
        {
          "data":{
            "text\/html":[
              
            ]
          },
          "metadata":{
            
          },
          "output_type":"display_data"
        }
      ],
      "metadata":{
        
      }
    },
    {
      "cell_type":"code",
      "source":[
        "col_subset = ['year','category', 'laureate_type',\n",
        "              'birth_date','full_name', 'organization_name']\n",
        "df_data.loc[df_data.birth_date.isna()][col_subset]\n",
        "# NaN in birth_dates are cus of the Organizations, NaN if organization_names also."
      ],
      "execution_count":28,
      "outputs":[
        {
          "data":{
            "text\/html":[
              "<div>\n",
              "<style scoped>\n",
              "    .dataframe tbody tr th:only-of-type {\n",
              "        vertical-align: middle;\n",
              "    }\n",
              "\n",
              "    .dataframe tbody tr th {\n",
              "        vertical-align: top;\n",
              "    }\n",
              "\n",
              "    .dataframe thead th {\n",
              "        text-align: right;\n",
              "    }\n",
              "<\/style>\n",
              "<table border=\"1\" class=\"dataframe\">\n",
              "  <thead>\n",
              "    <tr style=\"text-align: right;\">\n",
              "      <th><\/th>\n",
              "      <th>year<\/th>\n",
              "      <th>category<\/th>\n",
              "      <th>laureate_type<\/th>\n",
              "      <th>birth_date<\/th>\n",
              "      <th>full_name<\/th>\n",
              "      <th>organization_name<\/th>\n",
              "    <\/tr>\n",
              "  <\/thead>\n",
              "  <tbody>\n",
              "    <tr>\n",
              "      <th>24<\/th>\n",
              "      <td>1904<\/td>\n",
              "      <td>Peace<\/td>\n",
              "      <td>Organization<\/td>\n",
              "      <td>NaN<\/td>\n",
              "      <td>Institut de droit international (Institute of ...<\/td>\n",
              "      <td>NaN<\/td>\n",
              "    <\/tr>\n",
              "    <tr>\n",
              "      <th>60<\/th>\n",
              "      <td>1910<\/td>\n",
              "      <td>Peace<\/td>\n",
              "      <td>Organization<\/td>\n",
              "      <td>NaN<\/td>\n",
              "      <td>Bureau international permanent de la Paix (Per...<\/td>\n",
              "      <td>NaN<\/td>\n",
              "    <\/tr>\n",
              "    <tr>\n",
              "      <th>89<\/th>\n",
              "      <td>1917<\/td>\n",
              "      <td>Peace<\/td>\n",
              "      <td>Organization<\/td>\n",
              "      <td>NaN<\/td>\n",
              "      <td>Comité international de la Croix Rouge (Intern...<\/td>\n",
              "      <td>NaN<\/td>\n",
              "    <\/tr>\n",
              "    <tr>\n",
              "      <th>200<\/th>\n",
              "      <td>1938<\/td>\n",
              "      <td>Peace<\/td>\n",
              "      <td>Organization<\/td>\n",
              "      <td>NaN<\/td>\n",
              "      <td>Office international Nansen pour les Réfugiés ...<\/td>\n",
              "      <td>NaN<\/td>\n",
              "    <\/tr>\n",
              "    <tr>\n",
              "      <th>215<\/th>\n",
              "      <td>1944<\/td>\n",
              "      <td>Peace<\/td>\n",
              "      <td>Organization<\/td>\n",
              "      <td>NaN<\/td>\n",
              "      <td>Comité international de la Croix Rouge (Intern...<\/td>\n",
              "      <td>NaN<\/td>\n",
              "    <\/tr>\n",
              "    <tr>\n",
              "      <th>237<\/th>\n",
              "      <td>1947<\/td>\n",
              "      <td>Peace<\/td>\n",
              "      <td>Organization<\/td>\n",
              "      <td>NaN<\/td>\n",
              "      <td>American Friends Service Committee (The Quakers)<\/td>\n",
              "      <td>NaN<\/td>\n",
              "    <\/tr>\n",
              "    <tr>\n",
              "      <th>238<\/th>\n",
              "      <td>1947<\/td>\n",
              "      <td>Peace<\/td>\n",
              "      <td>Organization<\/td>\n",
              "      <td>NaN<\/td>\n",
              "      <td>Friends Service Council (The Quakers)<\/td>\n",
              "      <td>NaN<\/td>\n",
              "    <\/tr>\n",
              "    <tr>\n",
              "      <th>283<\/th>\n",
              "      <td>1954<\/td>\n",
              "      <td>Peace<\/td>\n",
              "      <td>Organization<\/td>\n",
              "      <td>NaN<\/td>\n",
              "      <td>Office of the United Nations High Commissioner...<\/td>\n",
              "      <td>NaN<\/td>\n",
              "    <\/tr>\n",
              "    <tr>\n",
              "      <th>348<\/th>\n",
              "      <td>1963<\/td>\n",
              "      <td>Peace<\/td>\n",
              "      <td>Organization<\/td>\n",
              "      <td>NaN<\/td>\n",
              "      <td>Comité international de la Croix Rouge (Intern...<\/td>\n",
              "      <td>NaN<\/td>\n",
              "    <\/tr>\n",
              "    <tr>\n",
              "      <th>349<\/th>\n",
              "      <td>1963<\/td>\n",
              "      <td>Peace<\/td>\n",
              "      <td>Organization<\/td>\n",
              "      <td>NaN<\/td>\n",
              "      <td>Ligue des Sociétés de la Croix-Rouge (League o...<\/td>\n",
              "      <td>NaN<\/td>\n",
              "    <\/tr>\n",
              "    <tr>\n",
              "      <th>366<\/th>\n",
              "      <td>1965<\/td>\n",
              "      <td>Peace<\/td>\n",
              "      <td>Organization<\/td>\n",
              "      <td>NaN<\/td>\n",
              "      <td>United Nations Children's Fund (UNICEF)<\/td>\n",
              "      <td>NaN<\/td>\n",
              "    <\/tr>\n",
              "    <tr>\n",
              "      <th>399<\/th>\n",
              "      <td>1969<\/td>\n",
              "      <td>Peace<\/td>\n",
              "      <td>Organization<\/td>\n",
              "      <td>NaN<\/td>\n",
              "      <td>International Labour Organization (I.L.O.)<\/td>\n",
              "      <td>NaN<\/td>\n",
              "    <\/tr>\n",
              "    <tr>\n",
              "      <th>479<\/th>\n",
              "      <td>1977<\/td>\n",
              "      <td>Peace<\/td>\n",
              "      <td>Organization<\/td>\n",
              "      <td>NaN<\/td>\n",
              "      <td>Amnesty International<\/td>\n",
              "      <td>NaN<\/td>\n",
              "    <\/tr>\n",
              "    <tr>\n",
              "      <th>523<\/th>\n",
              "      <td>1981<\/td>\n",
              "      <td>Peace<\/td>\n",
              "      <td>Organization<\/td>\n",
              "      <td>NaN<\/td>\n",
              "      <td>Office of the United Nations High Commissioner...<\/td>\n",
              "      <td>NaN<\/td>\n",
              "    <\/tr>\n",
              "    <tr>\n",
              "      <th>558<\/th>\n",
              "      <td>1985<\/td>\n",
              "      <td>Peace<\/td>\n",
              "      <td>Organization<\/td>\n",
              "      <td>NaN<\/td>\n",
              "      <td>International Physicians for the Prevention of...<\/td>\n",
              "      <td>NaN<\/td>\n",
              "    <\/tr>\n",
              "    <tr>\n",
              "      <th>588<\/th>\n",
              "      <td>1988<\/td>\n",
              "      <td>Peace<\/td>\n",
              "      <td>Organization<\/td>\n",
              "      <td>NaN<\/td>\n",
              "      <td>United Nations Peacekeeping Forces<\/td>\n",
              "      <td>NaN<\/td>\n",
              "    <\/tr>\n",
              "    <tr>\n",
              "      <th>659<\/th>\n",
              "      <td>1995<\/td>\n",
              "      <td>Peace<\/td>\n",
              "      <td>Organization<\/td>\n",
              "      <td>NaN<\/td>\n",
              "      <td>Pugwash Conferences on Science and World Affairs<\/td>\n",
              "      <td>NaN<\/td>\n",
              "    <\/tr>\n",
              "    <tr>\n",
              "      <th>682<\/th>\n",
              "      <td>1997<\/td>\n",
              "      <td>Peace<\/td>\n",
              "      <td>Organization<\/td>\n",
              "      <td>NaN<\/td>\n",
              "      <td>International Campaign to Ban Landmines (ICBL)<\/td>\n",
              "      <td>NaN<\/td>\n",
              "    <\/tr>\n",
              "    <tr>\n",
              "      <th>703<\/th>\n",
              "      <td>1999<\/td>\n",
              "      <td>Peace<\/td>\n",
              "      <td>Organization<\/td>\n",
              "      <td>NaN<\/td>\n",
              "      <td>Médecins Sans Frontières<\/td>\n",
              "      <td>NaN<\/td>\n",
              "    <\/tr>\n",
              "    <tr>\n",
              "      <th>730<\/th>\n",
              "      <td>2001<\/td>\n",
              "      <td>Peace<\/td>\n",
              "      <td>Organization<\/td>\n",
              "      <td>NaN<\/td>\n",
              "      <td>United Nations (U.N.)<\/td>\n",
              "      <td>NaN<\/td>\n",
              "    <\/tr>\n",
              "    <tr>\n",
              "      <th>778<\/th>\n",
              "      <td>2005<\/td>\n",
              "      <td>Peace<\/td>\n",
              "      <td>Organization<\/td>\n",
              "      <td>NaN<\/td>\n",
              "      <td>International Atomic Energy Agency (IAEA)<\/td>\n",
              "      <td>NaN<\/td>\n",
              "    <\/tr>\n",
              "    <tr>\n",
              "      <th>788<\/th>\n",
              "      <td>2006<\/td>\n",
              "      <td>Peace<\/td>\n",
              "      <td>Organization<\/td>\n",
              "      <td>NaN<\/td>\n",
              "      <td>Grameen Bank<\/td>\n",
              "      <td>NaN<\/td>\n",
              "    <\/tr>\n",
              "    <tr>\n",
              "      <th>801<\/th>\n",
              "      <td>2007<\/td>\n",
              "      <td>Peace<\/td>\n",
              "      <td>Organization<\/td>\n",
              "      <td>NaN<\/td>\n",
              "      <td>Intergovernmental Panel on Climate Change (IPCC)<\/td>\n",
              "      <td>NaN<\/td>\n",
              "    <\/tr>\n",
              "    <tr>\n",
              "      <th>860<\/th>\n",
              "      <td>2012<\/td>\n",
              "      <td>Peace<\/td>\n",
              "      <td>Organization<\/td>\n",
              "      <td>NaN<\/td>\n",
              "      <td>European Union (EU)<\/td>\n",
              "      <td>NaN<\/td>\n",
              "    <\/tr>\n",
              "    <tr>\n",
              "      <th>873<\/th>\n",
              "      <td>2013<\/td>\n",
              "      <td>Peace<\/td>\n",
              "      <td>Organization<\/td>\n",
              "      <td>NaN<\/td>\n",
              "      <td>Organisation for the Prohibition of Chemical W...<\/td>\n",
              "      <td>NaN<\/td>\n",
              "    <\/tr>\n",
              "    <tr>\n",
              "      <th>897<\/th>\n",
              "      <td>2015<\/td>\n",
              "      <td>Peace<\/td>\n",
              "      <td>Organization<\/td>\n",
              "      <td>NaN<\/td>\n",
              "      <td>National Dialogue Quartet<\/td>\n",
              "      <td>NaN<\/td>\n",
              "    <\/tr>\n",
              "    <tr>\n",
              "      <th>919<\/th>\n",
              "      <td>2017<\/td>\n",
              "      <td>Peace<\/td>\n",
              "      <td>Organization<\/td>\n",
              "      <td>NaN<\/td>\n",
              "      <td>International Campaign to Abolish Nuclear Weap...<\/td>\n",
              "      <td>NaN<\/td>\n",
              "    <\/tr>\n",
              "    <tr>\n",
              "      <th>958<\/th>\n",
              "      <td>2020<\/td>\n",
              "      <td>Peace<\/td>\n",
              "      <td>Organization<\/td>\n",
              "      <td>NaN<\/td>\n",
              "      <td>World Food Programme (WFP)<\/td>\n",
              "      <td>NaN<\/td>\n",
              "    <\/tr>\n",
              "  <\/tbody>\n",
              "<\/table>\n",
              "<\/div>"
            ]
          },
          "metadata":{
            
          },
          "output_type":"display_data"
        }
      ],
      "metadata":{
        
      }
    },
    {
      "cell_type":"code",
      "source":[
        "col_subset = ['year','category', 'laureate_type','full_name', 'organization_name']\n",
        "df_data.loc[df_data.organization_name.isna()][col_subset]\n",
        "# NaN in organizaion_names are also for individuals, only for peace and Litereture  prizes."
      ],
      "execution_count":29,
      "outputs":[
        {
          "data":{
            "text\/html":[
              "<div>\n",
              "<style scoped>\n",
              "    .dataframe tbody tr th:only-of-type {\n",
              "        vertical-align: middle;\n",
              "    }\n",
              "\n",
              "    .dataframe tbody tr th {\n",
              "        vertical-align: top;\n",
              "    }\n",
              "\n",
              "    .dataframe thead th {\n",
              "        text-align: right;\n",
              "    }\n",
              "<\/style>\n",
              "<table border=\"1\" class=\"dataframe\">\n",
              "  <thead>\n",
              "    <tr style=\"text-align: right;\">\n",
              "      <th><\/th>\n",
              "      <th>year<\/th>\n",
              "      <th>category<\/th>\n",
              "      <th>laureate_type<\/th>\n",
              "      <th>full_name<\/th>\n",
              "      <th>organization_name<\/th>\n",
              "    <\/tr>\n",
              "  <\/thead>\n",
              "  <tbody>\n",
              "    <tr>\n",
              "      <th>1<\/th>\n",
              "      <td>1901<\/td>\n",
              "      <td>Literature<\/td>\n",
              "      <td>Individual<\/td>\n",
              "      <td>Sully Prudhomme<\/td>\n",
              "      <td>NaN<\/td>\n",
              "    <\/tr>\n",
              "    <tr>\n",
              "      <th>3<\/th>\n",
              "      <td>1901<\/td>\n",
              "      <td>Peace<\/td>\n",
              "      <td>Individual<\/td>\n",
              "      <td>Frédéric Passy<\/td>\n",
              "      <td>NaN<\/td>\n",
              "    <\/tr>\n",
              "    <tr>\n",
              "      <th>4<\/th>\n",
              "      <td>1901<\/td>\n",
              "      <td>Peace<\/td>\n",
              "      <td>Individual<\/td>\n",
              "      <td>Jean Henry Dunant<\/td>\n",
              "      <td>NaN<\/td>\n",
              "    <\/tr>\n",
              "    <tr>\n",
              "      <th>7<\/th>\n",
              "      <td>1902<\/td>\n",
              "      <td>Literature<\/td>\n",
              "      <td>Individual<\/td>\n",
              "      <td>Christian Matthias Theodor Mommsen<\/td>\n",
              "      <td>NaN<\/td>\n",
              "    <\/tr>\n",
              "    <tr>\n",
              "      <th>9<\/th>\n",
              "      <td>1902<\/td>\n",
              "      <td>Peace<\/td>\n",
              "      <td>Individual<\/td>\n",
              "      <td>Charles Albert Gobat<\/td>\n",
              "      <td>NaN<\/td>\n",
              "    <\/tr>\n",
              "    <tr>\n",
              "      <th>...<\/th>\n",
              "      <td>...<\/td>\n",
              "      <td>...<\/td>\n",
              "      <td>...<\/td>\n",
              "      <td>...<\/td>\n",
              "      <td>...<\/td>\n",
              "    <\/tr>\n",
              "    <tr>\n",
              "      <th>932<\/th>\n",
              "      <td>2018<\/td>\n",
              "      <td>Peace<\/td>\n",
              "      <td>Individual<\/td>\n",
              "      <td>Nadia Murad<\/td>\n",
              "      <td>NaN<\/td>\n",
              "    <\/tr>\n",
              "    <tr>\n",
              "      <th>942<\/th>\n",
              "      <td>2019<\/td>\n",
              "      <td>Literature<\/td>\n",
              "      <td>Individual<\/td>\n",
              "      <td>Peter Handke<\/td>\n",
              "      <td>NaN<\/td>\n",
              "    <\/tr>\n",
              "    <tr>\n",
              "      <th>946<\/th>\n",
              "      <td>2019<\/td>\n",
              "      <td>Peace<\/td>\n",
              "      <td>Individual<\/td>\n",
              "      <td>Abiy Ahmed Ali<\/td>\n",
              "      <td>NaN<\/td>\n",
              "    <\/tr>\n",
              "    <tr>\n",
              "      <th>954<\/th>\n",
              "      <td>2020<\/td>\n",
              "      <td>Literature<\/td>\n",
              "      <td>Individual<\/td>\n",
              "      <td>Louise Glück<\/td>\n",
              "      <td>NaN<\/td>\n",
              "    <\/tr>\n",
              "    <tr>\n",
              "      <th>958<\/th>\n",
              "      <td>2020<\/td>\n",
              "      <td>Peace<\/td>\n",
              "      <td>Organization<\/td>\n",
              "      <td>World Food Programme (WFP)<\/td>\n",
              "      <td>NaN<\/td>\n",
              "    <\/tr>\n",
              "  <\/tbody>\n",
              "<\/table>\n",
              "<p>255 rows × 5 columns<\/p>\n",
              "<\/div>"
            ]
          },
          "metadata":{
            
          },
          "output_type":"display_data"
        }
      ],
      "metadata":{
        
      }
    },
    {
      "cell_type":"code",
      "source":[
        
      ],
      "execution_count":29,
      "outputs":[
        
      ],
      "metadata":{
        
      }
    },
    {
      "cell_type":"markdown",
      "source":[
        "### Type Conversions\n",
        "\n",
        "**Challenge**: \n",
        "* Convert the `birth_date` column to Pandas `Datetime` objects\n",
        "* Add a Column called `share_pct` which has the laureates' share as a percentage in the form of a floating-point number."
      ],
      "attachments":{
        
      },
      "metadata":{
        
      }
    },
    {
      "cell_type":"markdown",
      "source":[
        "#### Convert Year and Birth Date to Datetime"
      ],
      "attachments":{
        
      },
      "metadata":{
        
      }
    },
    {
      "cell_type":"code",
      "source":[
        "df_data.birth_date = pd.to_datetime(df_data.birth_date)\n",
        "df_data.head()"
      ],
      "execution_count":30,
      "outputs":[
        {
          "data":{
            "text\/html":[
              "<div>\n",
              "<style scoped>\n",
              "    .dataframe tbody tr th:only-of-type {\n",
              "        vertical-align: middle;\n",
              "    }\n",
              "\n",
              "    .dataframe tbody tr th {\n",
              "        vertical-align: top;\n",
              "    }\n",
              "\n",
              "    .dataframe thead th {\n",
              "        text-align: right;\n",
              "    }\n",
              "<\/style>\n",
              "<table border=\"1\" class=\"dataframe\">\n",
              "  <thead>\n",
              "    <tr style=\"text-align: right;\">\n",
              "      <th><\/th>\n",
              "      <th>year<\/th>\n",
              "      <th>category<\/th>\n",
              "      <th>prize<\/th>\n",
              "      <th>motivation<\/th>\n",
              "      <th>prize_share<\/th>\n",
              "      <th>laureate_type<\/th>\n",
              "      <th>full_name<\/th>\n",
              "      <th>birth_date<\/th>\n",
              "      <th>birth_city<\/th>\n",
              "      <th>birth_country<\/th>\n",
              "      <th>birth_country_current<\/th>\n",
              "      <th>sex<\/th>\n",
              "      <th>organization_name<\/th>\n",
              "      <th>organization_city<\/th>\n",
              "      <th>organization_country<\/th>\n",
              "      <th>ISO<\/th>\n",
              "    <\/tr>\n",
              "  <\/thead>\n",
              "  <tbody>\n",
              "    <tr>\n",
              "      <th>0<\/th>\n",
              "      <td>1901<\/td>\n",
              "      <td>Chemistry<\/td>\n",
              "      <td>The Nobel Prize in Chemistry 1901<\/td>\n",
              "      <td>\"in recognition of the extraordinary services ...<\/td>\n",
              "      <td>1\/1<\/td>\n",
              "      <td>Individual<\/td>\n",
              "      <td>Jacobus Henricus van 't Hoff<\/td>\n",
              "      <td>1852-08-30<\/td>\n",
              "      <td>Rotterdam<\/td>\n",
              "      <td>Netherlands<\/td>\n",
              "      <td>Netherlands<\/td>\n",
              "      <td>Male<\/td>\n",
              "      <td>Berlin University<\/td>\n",
              "      <td>Berlin<\/td>\n",
              "      <td>Germany<\/td>\n",
              "      <td>NLD<\/td>\n",
              "    <\/tr>\n",
              "    <tr>\n",
              "      <th>1<\/th>\n",
              "      <td>1901<\/td>\n",
              "      <td>Literature<\/td>\n",
              "      <td>The Nobel Prize in Literature 1901<\/td>\n",
              "      <td>\"in special recognition of his poetic composit...<\/td>\n",
              "      <td>1\/1<\/td>\n",
              "      <td>Individual<\/td>\n",
              "      <td>Sully Prudhomme<\/td>\n",
              "      <td>1839-03-16<\/td>\n",
              "      <td>Paris<\/td>\n",
              "      <td>France<\/td>\n",
              "      <td>France<\/td>\n",
              "      <td>Male<\/td>\n",
              "      <td>NaN<\/td>\n",
              "      <td>NaN<\/td>\n",
              "      <td>NaN<\/td>\n",
              "      <td>FRA<\/td>\n",
              "    <\/tr>\n",
              "    <tr>\n",
              "      <th>2<\/th>\n",
              "      <td>1901<\/td>\n",
              "      <td>Medicine<\/td>\n",
              "      <td>The Nobel Prize in Physiology or Medicine 1901<\/td>\n",
              "      <td>\"for his work on serum therapy, especially its...<\/td>\n",
              "      <td>1\/1<\/td>\n",
              "      <td>Individual<\/td>\n",
              "      <td>Emil Adolf von Behring<\/td>\n",
              "      <td>1854-03-15<\/td>\n",
              "      <td>Hansdorf (Lawice)<\/td>\n",
              "      <td>Prussia (Poland)<\/td>\n",
              "      <td>Poland<\/td>\n",
              "      <td>Male<\/td>\n",
              "      <td>Marburg University<\/td>\n",
              "      <td>Marburg<\/td>\n",
              "      <td>Germany<\/td>\n",
              "      <td>POL<\/td>\n",
              "    <\/tr>\n",
              "    <tr>\n",
              "      <th>3<\/th>\n",
              "      <td>1901<\/td>\n",
              "      <td>Peace<\/td>\n",
              "      <td>The Nobel Peace Prize 1901<\/td>\n",
              "      <td>NaN<\/td>\n",
              "      <td>1\/2<\/td>\n",
              "      <td>Individual<\/td>\n",
              "      <td>Frédéric Passy<\/td>\n",
              "      <td>1822-05-20<\/td>\n",
              "      <td>Paris<\/td>\n",
              "      <td>France<\/td>\n",
              "      <td>France<\/td>\n",
              "      <td>Male<\/td>\n",
              "      <td>NaN<\/td>\n",
              "      <td>NaN<\/td>\n",
              "      <td>NaN<\/td>\n",
              "      <td>FRA<\/td>\n",
              "    <\/tr>\n",
              "    <tr>\n",
              "      <th>4<\/th>\n",
              "      <td>1901<\/td>\n",
              "      <td>Peace<\/td>\n",
              "      <td>The Nobel Peace Prize 1901<\/td>\n",
              "      <td>NaN<\/td>\n",
              "      <td>1\/2<\/td>\n",
              "      <td>Individual<\/td>\n",
              "      <td>Jean Henry Dunant<\/td>\n",
              "      <td>1828-05-08<\/td>\n",
              "      <td>Geneva<\/td>\n",
              "      <td>Switzerland<\/td>\n",
              "      <td>Switzerland<\/td>\n",
              "      <td>Male<\/td>\n",
              "      <td>NaN<\/td>\n",
              "      <td>NaN<\/td>\n",
              "      <td>NaN<\/td>\n",
              "      <td>CHE<\/td>\n",
              "    <\/tr>\n",
              "  <\/tbody>\n",
              "<\/table>\n",
              "<\/div>"
            ]
          },
          "metadata":{
            
          },
          "output_type":"display_data"
        }
      ],
      "metadata":{
        
      }
    },
    {
      "cell_type":"markdown",
      "source":[
        "#### Add a Column with the Prize Share as a Percentage"
      ],
      "attachments":{
        
      },
      "metadata":{
        
      }
    },
    {
      "cell_type":"code",
      "source":[
        "separated_values = df_data.prize_share.str.split('\/', expand=True)\n",
        "numerator = pd.to_numeric(separated_values[0])\n",
        "denomenator = pd.to_numeric(separated_values[1])\n",
        "df_data['share_pct'] = numerator \/ denomenator"
      ],
      "execution_count":31,
      "outputs":[
        
      ],
      "metadata":{
        
      }
    },
    {
      "cell_type":"code",
      "source":[
        "df_data.head()"
      ],
      "execution_count":32,
      "outputs":[
        {
          "data":{
            "text\/html":[
              "<div>\n",
              "<style scoped>\n",
              "    .dataframe tbody tr th:only-of-type {\n",
              "        vertical-align: middle;\n",
              "    }\n",
              "\n",
              "    .dataframe tbody tr th {\n",
              "        vertical-align: top;\n",
              "    }\n",
              "\n",
              "    .dataframe thead th {\n",
              "        text-align: right;\n",
              "    }\n",
              "<\/style>\n",
              "<table border=\"1\" class=\"dataframe\">\n",
              "  <thead>\n",
              "    <tr style=\"text-align: right;\">\n",
              "      <th><\/th>\n",
              "      <th>year<\/th>\n",
              "      <th>category<\/th>\n",
              "      <th>prize<\/th>\n",
              "      <th>motivation<\/th>\n",
              "      <th>prize_share<\/th>\n",
              "      <th>laureate_type<\/th>\n",
              "      <th>full_name<\/th>\n",
              "      <th>birth_date<\/th>\n",
              "      <th>birth_city<\/th>\n",
              "      <th>birth_country<\/th>\n",
              "      <th>birth_country_current<\/th>\n",
              "      <th>sex<\/th>\n",
              "      <th>organization_name<\/th>\n",
              "      <th>organization_city<\/th>\n",
              "      <th>organization_country<\/th>\n",
              "      <th>ISO<\/th>\n",
              "      <th>share_pct<\/th>\n",
              "    <\/tr>\n",
              "  <\/thead>\n",
              "  <tbody>\n",
              "    <tr>\n",
              "      <th>0<\/th>\n",
              "      <td>1901<\/td>\n",
              "      <td>Chemistry<\/td>\n",
              "      <td>The Nobel Prize in Chemistry 1901<\/td>\n",
              "      <td>\"in recognition of the extraordinary services ...<\/td>\n",
              "      <td>1\/1<\/td>\n",
              "      <td>Individual<\/td>\n",
              "      <td>Jacobus Henricus van 't Hoff<\/td>\n",
              "      <td>1852-08-30<\/td>\n",
              "      <td>Rotterdam<\/td>\n",
              "      <td>Netherlands<\/td>\n",
              "      <td>Netherlands<\/td>\n",
              "      <td>Male<\/td>\n",
              "      <td>Berlin University<\/td>\n",
              "      <td>Berlin<\/td>\n",
              "      <td>Germany<\/td>\n",
              "      <td>NLD<\/td>\n",
              "      <td>1.00<\/td>\n",
              "    <\/tr>\n",
              "    <tr>\n",
              "      <th>1<\/th>\n",
              "      <td>1901<\/td>\n",
              "      <td>Literature<\/td>\n",
              "      <td>The Nobel Prize in Literature 1901<\/td>\n",
              "      <td>\"in special recognition of his poetic composit...<\/td>\n",
              "      <td>1\/1<\/td>\n",
              "      <td>Individual<\/td>\n",
              "      <td>Sully Prudhomme<\/td>\n",
              "      <td>1839-03-16<\/td>\n",
              "      <td>Paris<\/td>\n",
              "      <td>France<\/td>\n",
              "      <td>France<\/td>\n",
              "      <td>Male<\/td>\n",
              "      <td>NaN<\/td>\n",
              "      <td>NaN<\/td>\n",
              "      <td>NaN<\/td>\n",
              "      <td>FRA<\/td>\n",
              "      <td>1.00<\/td>\n",
              "    <\/tr>\n",
              "    <tr>\n",
              "      <th>2<\/th>\n",
              "      <td>1901<\/td>\n",
              "      <td>Medicine<\/td>\n",
              "      <td>The Nobel Prize in Physiology or Medicine 1901<\/td>\n",
              "      <td>\"for his work on serum therapy, especially its...<\/td>\n",
              "      <td>1\/1<\/td>\n",
              "      <td>Individual<\/td>\n",
              "      <td>Emil Adolf von Behring<\/td>\n",
              "      <td>1854-03-15<\/td>\n",
              "      <td>Hansdorf (Lawice)<\/td>\n",
              "      <td>Prussia (Poland)<\/td>\n",
              "      <td>Poland<\/td>\n",
              "      <td>Male<\/td>\n",
              "      <td>Marburg University<\/td>\n",
              "      <td>Marburg<\/td>\n",
              "      <td>Germany<\/td>\n",
              "      <td>POL<\/td>\n",
              "      <td>1.00<\/td>\n",
              "    <\/tr>\n",
              "    <tr>\n",
              "      <th>3<\/th>\n",
              "      <td>1901<\/td>\n",
              "      <td>Peace<\/td>\n",
              "      <td>The Nobel Peace Prize 1901<\/td>\n",
              "      <td>NaN<\/td>\n",
              "      <td>1\/2<\/td>\n",
              "      <td>Individual<\/td>\n",
              "      <td>Frédéric Passy<\/td>\n",
              "      <td>1822-05-20<\/td>\n",
              "      <td>Paris<\/td>\n",
              "      <td>France<\/td>\n",
              "      <td>France<\/td>\n",
              "      <td>Male<\/td>\n",
              "      <td>NaN<\/td>\n",
              "      <td>NaN<\/td>\n",
              "      <td>NaN<\/td>\n",
              "      <td>FRA<\/td>\n",
              "      <td>0.50<\/td>\n",
              "    <\/tr>\n",
              "    <tr>\n",
              "      <th>4<\/th>\n",
              "      <td>1901<\/td>\n",
              "      <td>Peace<\/td>\n",
              "      <td>The Nobel Peace Prize 1901<\/td>\n",
              "      <td>NaN<\/td>\n",
              "      <td>1\/2<\/td>\n",
              "      <td>Individual<\/td>\n",
              "      <td>Jean Henry Dunant<\/td>\n",
              "      <td>1828-05-08<\/td>\n",
              "      <td>Geneva<\/td>\n",
              "      <td>Switzerland<\/td>\n",
              "      <td>Switzerland<\/td>\n",
              "      <td>Male<\/td>\n",
              "      <td>NaN<\/td>\n",
              "      <td>NaN<\/td>\n",
              "      <td>NaN<\/td>\n",
              "      <td>CHE<\/td>\n",
              "      <td>0.50<\/td>\n",
              "    <\/tr>\n",
              "  <\/tbody>\n",
              "<\/table>\n",
              "<\/div>"
            ]
          },
          "metadata":{
            
          },
          "output_type":"display_data"
        }
      ],
      "metadata":{
        
      }
    },
    {
      "cell_type":"markdown",
      "source":[
        "# Plotly Donut Chart: Percentage of Male vs. Female Laureates"
      ],
      "attachments":{
        
      },
      "metadata":{
        
      }
    },
    {
      "cell_type":"markdown",
      "source":[
        "**Challenge**: Create a [donut chart using plotly](https:\/\/plotly.com\/python\/pie-charts\/) which shows how many prizes went to men compared to how many prizes went to women. What percentage of all the prizes went to women?"
      ],
      "attachments":{
        
      },
      "metadata":{
        
      }
    },
    {
      "cell_type":"code",
      "source":[
        "NobelSex = df_data.sex.value_counts()\n",
        "\n",
        "fig = px.pie(labels=NobelSex.index,\n",
        "             values=NobelSex.values,\n",
        "             title=\"Percentage of Male vs. Female Laureates\",\n",
        "             names=NobelSex.index,\n",
        "             hole=0.5)\n",
        "\n",
        "fig.update_traces(textposition='inside', textinfo='percent')\n",
        "\n",
        "fig.show()"
      ],
      "execution_count":33,
      "outputs":[
        {
          "data":{
            "text\/plain":[
              "Unsupported"
            ]
          },
          "metadata":{
            
          },
          "output_type":"display_data"
        }
      ],
      "metadata":{
        
      }
    },
    {
      "cell_type":"code",
      "source":[
        
      ],
      "execution_count":33,
      "outputs":[
        
      ],
      "metadata":{
        
      }
    },
    {
      "cell_type":"markdown",
      "source":[
        "# Who were the first 3 Women to Win the Nobel Prize?\n",
        "\n",
        "**Challenge**: \n",
        "* What are the names of the first 3 female Nobel laureates? \n",
        "* What did the win the prize for? \n",
        "* What do you see in their `birth_country`? Were they part of an organisation?"
      ],
      "attachments":{
        
      },
      "metadata":{
        
      }
    },
    {
      "cell_type":"code",
      "source":[
        "df_f_women = df_data[df_data.sex=='Female']\n",
        "df_f_women.sort_values('year')\n",
        "df_f_women.head(3)"
      ],
      "execution_count":34,
      "outputs":[
        {
          "data":{
            "text\/html":[
              "<div>\n",
              "<style scoped>\n",
              "    .dataframe tbody tr th:only-of-type {\n",
              "        vertical-align: middle;\n",
              "    }\n",
              "\n",
              "    .dataframe tbody tr th {\n",
              "        vertical-align: top;\n",
              "    }\n",
              "\n",
              "    .dataframe thead th {\n",
              "        text-align: right;\n",
              "    }\n",
              "<\/style>\n",
              "<table border=\"1\" class=\"dataframe\">\n",
              "  <thead>\n",
              "    <tr style=\"text-align: right;\">\n",
              "      <th><\/th>\n",
              "      <th>year<\/th>\n",
              "      <th>category<\/th>\n",
              "      <th>prize<\/th>\n",
              "      <th>motivation<\/th>\n",
              "      <th>prize_share<\/th>\n",
              "      <th>laureate_type<\/th>\n",
              "      <th>full_name<\/th>\n",
              "      <th>birth_date<\/th>\n",
              "      <th>birth_city<\/th>\n",
              "      <th>birth_country<\/th>\n",
              "      <th>birth_country_current<\/th>\n",
              "      <th>sex<\/th>\n",
              "      <th>organization_name<\/th>\n",
              "      <th>organization_city<\/th>\n",
              "      <th>organization_country<\/th>\n",
              "      <th>ISO<\/th>\n",
              "      <th>share_pct<\/th>\n",
              "    <\/tr>\n",
              "  <\/thead>\n",
              "  <tbody>\n",
              "    <tr>\n",
              "      <th>18<\/th>\n",
              "      <td>1903<\/td>\n",
              "      <td>Physics<\/td>\n",
              "      <td>The Nobel Prize in Physics 1903<\/td>\n",
              "      <td>\"in recognition of the extraordinary services ...<\/td>\n",
              "      <td>1\/4<\/td>\n",
              "      <td>Individual<\/td>\n",
              "      <td>Marie Curie, née Sklodowska<\/td>\n",
              "      <td>1867-11-07<\/td>\n",
              "      <td>Warsaw<\/td>\n",
              "      <td>Russian Empire (Poland)<\/td>\n",
              "      <td>Poland<\/td>\n",
              "      <td>Female<\/td>\n",
              "      <td>NaN<\/td>\n",
              "      <td>NaN<\/td>\n",
              "      <td>NaN<\/td>\n",
              "      <td>POL<\/td>\n",
              "      <td>0.25<\/td>\n",
              "    <\/tr>\n",
              "    <tr>\n",
              "      <th>29<\/th>\n",
              "      <td>1905<\/td>\n",
              "      <td>Peace<\/td>\n",
              "      <td>The Nobel Peace Prize 1905<\/td>\n",
              "      <td>NaN<\/td>\n",
              "      <td>1\/1<\/td>\n",
              "      <td>Individual<\/td>\n",
              "      <td>Baroness Bertha Sophie Felicita von Suttner, n...<\/td>\n",
              "      <td>1843-06-09<\/td>\n",
              "      <td>Prague<\/td>\n",
              "      <td>Austrian Empire (Czech Republic)<\/td>\n",
              "      <td>Czech Republic<\/td>\n",
              "      <td>Female<\/td>\n",
              "      <td>NaN<\/td>\n",
              "      <td>NaN<\/td>\n",
              "      <td>NaN<\/td>\n",
              "      <td>CZE<\/td>\n",
              "      <td>1.00<\/td>\n",
              "    <\/tr>\n",
              "    <tr>\n",
              "      <th>51<\/th>\n",
              "      <td>1909<\/td>\n",
              "      <td>Literature<\/td>\n",
              "      <td>The Nobel Prize in Literature 1909<\/td>\n",
              "      <td>\"in appreciation of the lofty idealism, vivid ...<\/td>\n",
              "      <td>1\/1<\/td>\n",
              "      <td>Individual<\/td>\n",
              "      <td>Selma Ottilia Lovisa Lagerlöf<\/td>\n",
              "      <td>1858-11-20<\/td>\n",
              "      <td>Mårbacka<\/td>\n",
              "      <td>Sweden<\/td>\n",
              "      <td>Sweden<\/td>\n",
              "      <td>Female<\/td>\n",
              "      <td>NaN<\/td>\n",
              "      <td>NaN<\/td>\n",
              "      <td>NaN<\/td>\n",
              "      <td>SWE<\/td>\n",
              "      <td>1.00<\/td>\n",
              "    <\/tr>\n",
              "  <\/tbody>\n",
              "<\/table>\n",
              "<\/div>"
            ]
          },
          "metadata":{
            
          },
          "output_type":"display_data"
        }
      ],
      "metadata":{
        
      }
    },
    {
      "cell_type":"code",
      "source":[
        
      ],
      "execution_count":34,
      "outputs":[
        
      ],
      "metadata":{
        
      }
    },
    {
      "cell_type":"markdown",
      "source":[
        "# Find the Repeat Winners\n",
        "\n",
        "**Challenge**: Did some people get a Nobel Prize more than once? If so, who were they? "
      ],
      "attachments":{
        
      },
      "metadata":{
        
      }
    },
    {
      "cell_type":"code",
      "source":[
        "df_data[df_data.full_name == 'Marie Curie, née Sklodowska']"
      ],
      "execution_count":35,
      "outputs":[
        {
          "data":{
            "text\/html":[
              "<div>\n",
              "<style scoped>\n",
              "    .dataframe tbody tr th:only-of-type {\n",
              "        vertical-align: middle;\n",
              "    }\n",
              "\n",
              "    .dataframe tbody tr th {\n",
              "        vertical-align: top;\n",
              "    }\n",
              "\n",
              "    .dataframe thead th {\n",
              "        text-align: right;\n",
              "    }\n",
              "<\/style>\n",
              "<table border=\"1\" class=\"dataframe\">\n",
              "  <thead>\n",
              "    <tr style=\"text-align: right;\">\n",
              "      <th><\/th>\n",
              "      <th>year<\/th>\n",
              "      <th>category<\/th>\n",
              "      <th>prize<\/th>\n",
              "      <th>motivation<\/th>\n",
              "      <th>prize_share<\/th>\n",
              "      <th>laureate_type<\/th>\n",
              "      <th>full_name<\/th>\n",
              "      <th>birth_date<\/th>\n",
              "      <th>birth_city<\/th>\n",
              "      <th>birth_country<\/th>\n",
              "      <th>birth_country_current<\/th>\n",
              "      <th>sex<\/th>\n",
              "      <th>organization_name<\/th>\n",
              "      <th>organization_city<\/th>\n",
              "      <th>organization_country<\/th>\n",
              "      <th>ISO<\/th>\n",
              "      <th>share_pct<\/th>\n",
              "    <\/tr>\n",
              "  <\/thead>\n",
              "  <tbody>\n",
              "    <tr>\n",
              "      <th>18<\/th>\n",
              "      <td>1903<\/td>\n",
              "      <td>Physics<\/td>\n",
              "      <td>The Nobel Prize in Physics 1903<\/td>\n",
              "      <td>\"in recognition of the extraordinary services ...<\/td>\n",
              "      <td>1\/4<\/td>\n",
              "      <td>Individual<\/td>\n",
              "      <td>Marie Curie, née Sklodowska<\/td>\n",
              "      <td>1867-11-07<\/td>\n",
              "      <td>Warsaw<\/td>\n",
              "      <td>Russian Empire (Poland)<\/td>\n",
              "      <td>Poland<\/td>\n",
              "      <td>Female<\/td>\n",
              "      <td>NaN<\/td>\n",
              "      <td>NaN<\/td>\n",
              "      <td>NaN<\/td>\n",
              "      <td>POL<\/td>\n",
              "      <td>0.25<\/td>\n",
              "    <\/tr>\n",
              "    <tr>\n",
              "      <th>62<\/th>\n",
              "      <td>1911<\/td>\n",
              "      <td>Chemistry<\/td>\n",
              "      <td>The Nobel Prize in Chemistry 1911<\/td>\n",
              "      <td>\"in recognition of her services to the advance...<\/td>\n",
              "      <td>1\/1<\/td>\n",
              "      <td>Individual<\/td>\n",
              "      <td>Marie Curie, née Sklodowska<\/td>\n",
              "      <td>1867-11-07<\/td>\n",
              "      <td>Warsaw<\/td>\n",
              "      <td>Russian Empire (Poland)<\/td>\n",
              "      <td>Poland<\/td>\n",
              "      <td>Female<\/td>\n",
              "      <td>Sorbonne University<\/td>\n",
              "      <td>Paris<\/td>\n",
              "      <td>France<\/td>\n",
              "      <td>POL<\/td>\n",
              "      <td>1.00<\/td>\n",
              "    <\/tr>\n",
              "  <\/tbody>\n",
              "<\/table>\n",
              "<\/div>"
            ]
          },
          "metadata":{
            
          },
          "output_type":"display_data"
        }
      ],
      "metadata":{
        
      }
    },
    {
      "cell_type":"code",
      "source":[
        "df_data[df_data.full_name.duplicated()]\n",
        "print(f'There are {df_data[df_data.full_name.duplicated()].full_name.nunique()} peopole who get a Nobel Prize more then once.')"
      ],
      "execution_count":36,
      "outputs":[
        {
          "name":"stdout",
          "text":[
            "There are 6 peopole who get a Nobel Prize more then once.\n"
          ],
          "output_type":"stream"
        }
      ],
      "metadata":{
        
      }
    },
    {
      "cell_type":"markdown",
      "source":[
        "# Number of Prizes per Category\n",
        "\n",
        "**Challenge**: \n",
        "* In how many categories are prizes awarded? \n",
        "* Create a plotly bar chart with the number of prizes awarded by category. \n",
        "* Use the color scale called `Aggrnyl` to colour the chart, but don't show a color axis.\n",
        "* Which category has the most number of prizes awarded? \n",
        "* Which category has the fewest number of prizes awarded? "
      ],
      "attachments":{
        
      },
      "metadata":{
        
      }
    },
    {
      "cell_type":"code",
      "source":[
        "categories = df_data.category.value_counts()\n",
        "categories"
      ],
      "execution_count":37,
      "outputs":[
        {
          "data":{
            "text\/html":[
              
            ]
          },
          "metadata":{
            
          },
          "output_type":"display_data"
        }
      ],
      "metadata":{
        
      }
    },
    {
      "cell_type":"code",
      "source":[
        "bar = px.bar(x = categories.index,\n",
        "             y = categories.values,\n",
        "             color = categories.values,\n",
        "             color_continuous_scale=px.colors.sequential.Aggrnyl,\n",
        "             title='Number of Prizes per Category')\n",
        "\n",
        "bar.update_layout(xaxis_title='Categories',\n",
        "                  yaxis_title='Number of Prizes',\n",
        "                  coloraxis_showscale = False) #  Hide color scale\n",
        "\n",
        "bar.show()"
      ],
      "execution_count":38,
      "outputs":[
        {
          "data":{
            "text\/plain":[
              "Unsupported"
            ]
          },
          "metadata":{
            
          },
          "output_type":"display_data"
        }
      ],
      "metadata":{
        
      }
    },
    {
      "cell_type":"code",
      "source":[
        "print(f'{categories.idxmax()} is the category with the most Nobel Prizes.')\n",
        "print(f'{categories.idmin()} is the category with the fewest Nobel Prizes.')"
      ],
      "execution_count":39,
      "outputs":[
        {
          "name":"stdout",
          "text":[
            "Medicine is the category with the most Nobel Prizes.\n"
          ],
          "output_type":"stream"
        },
        {
          "ename":"AttributeError",
          "evalue":"AttributeError: 'Series' object has no attribute 'idmin'",
          "traceback":[
            "\u001b[0;31m---------------------------------------------------------------------------",
            "Traceback (most recent call last)",
            "    at line 2 in <module>",
            "AttributeError: 'Series' object has no attribute 'idmin'"
          ],
          "output_type":"error"
        }
      ],
      "metadata":{
        
      }
    },
    {
      "cell_type":"markdown",
      "source":[
        "**Challenge**: \n",
        "* When was the first prize in the field of Economics awarded?\n",
        "* Who did the prize go to?"
      ],
      "attachments":{
        
      },
      "metadata":{
        
      }
    },
    {
      "cell_type":"code",
      "source":[
        "\n",
        "print(f'The first prize in the field of Economis was awarded in {df_data[df_data.category == \"Economics\"].year.min()}.')"
      ],
      "execution_count":54,
      "outputs":[
        {
          "name":"stdout",
          "text":[
            "The first prize in the field of Economis was awarded in 1969.\n"
          ],
          "output_type":"stream"
        }
      ],
      "metadata":{
        
      }
    },
    {
      "cell_type":"code",
      "source":[
        "id_eco_min = df_data[df_data.category == 'Economics'].year.idxmin()\n",
        "name_eco_min = df_data.loc[id_eco_min].full_name\n",
        "print(f'Prize went to {name_eco_min}.')"
      ],
      "execution_count":63,
      "outputs":[
        {
          "name":"stdout",
          "text":[
            "Prize went to Jan Tinbergen\n"
          ],
          "output_type":"stream"
        }
      ],
      "metadata":{
        
      }
    },
    {
      "cell_type":"code",
      "source":[
        
      ],
      "execution_count":0,
      "outputs":[
        
      ],
      "metadata":{
        
      }
    },
    {
      "cell_type":"markdown",
      "source":[
        "# Male and Female Winners by Category\n",
        "\n",
        "**Challenge**: Create a [plotly bar chart](https:\/\/plotly.com\/python\/bar-charts\/) that shows the split between men and women by category. \n",
        "* Hover over the bar chart. How many prizes went to women in Literature compared to Physics?\n",
        "\n",
        "<img src=https:\/\/i.imgur.com\/od8TfOp.png width=650>"
      ],
      "attachments":{
        
      },
      "metadata":{
        
      }
    },
    {
      "cell_type":"code",
      "source":[
        "cat_men_women = df_data.groupby(['category', 'sex'], \n",
        "                               as_index=False).agg({'prize': pd.Series.count})\n",
        "cat_men_women.sort_values('prize', ascending=False, inplace=True)\n",
        "cat_men_women"
      ],
      "execution_count":8,
      "outputs":[
        {
          "data":{
            "text\/html":[
              "<div>\n",
              "<style scoped>\n",
              "    .dataframe tbody tr th:only-of-type {\n",
              "        vertical-align: middle;\n",
              "    }\n",
              "\n",
              "    .dataframe tbody tr th {\n",
              "        vertical-align: top;\n",
              "    }\n",
              "\n",
              "    .dataframe thead th {\n",
              "        text-align: right;\n",
              "    }\n",
              "<\/style>\n",
              "<table border=\"1\" class=\"dataframe\">\n",
              "  <thead>\n",
              "    <tr style=\"text-align: right;\">\n",
              "      <th><\/th>\n",
              "      <th>category<\/th>\n",
              "      <th>sex<\/th>\n",
              "      <th>prize<\/th>\n",
              "    <\/tr>\n",
              "  <\/thead>\n",
              "  <tbody>\n",
              "    <tr>\n",
              "      <th>11<\/th>\n",
              "      <td>Physics<\/td>\n",
              "      <td>Male<\/td>\n",
              "      <td>212<\/td>\n",
              "    <\/tr>\n",
              "    <tr>\n",
              "      <th>7<\/th>\n",
              "      <td>Medicine<\/td>\n",
              "      <td>Male<\/td>\n",
              "      <td>210<\/td>\n",
              "    <\/tr>\n",
              "    <tr>\n",
              "      <th>1<\/th>\n",
              "      <td>Chemistry<\/td>\n",
              "      <td>Male<\/td>\n",
              "      <td>179<\/td>\n",
              "    <\/tr>\n",
              "    <tr>\n",
              "      <th>5<\/th>\n",
              "      <td>Literature<\/td>\n",
              "      <td>Male<\/td>\n",
              "      <td>101<\/td>\n",
              "    <\/tr>\n",
              "    <tr>\n",
              "      <th>9<\/th>\n",
              "      <td>Peace<\/td>\n",
              "      <td>Male<\/td>\n",
              "      <td>90<\/td>\n",
              "    <\/tr>\n",
              "    <tr>\n",
              "      <th>3<\/th>\n",
              "      <td>Economics<\/td>\n",
              "      <td>Male<\/td>\n",
              "      <td>84<\/td>\n",
              "    <\/tr>\n",
              "    <tr>\n",
              "      <th>8<\/th>\n",
              "      <td>Peace<\/td>\n",
              "      <td>Female<\/td>\n",
              "      <td>17<\/td>\n",
              "    <\/tr>\n",
              "    <tr>\n",
              "      <th>4<\/th>\n",
              "      <td>Literature<\/td>\n",
              "      <td>Female<\/td>\n",
              "      <td>16<\/td>\n",
              "    <\/tr>\n",
              "    <tr>\n",
              "      <th>6<\/th>\n",
              "      <td>Medicine<\/td>\n",
              "      <td>Female<\/td>\n",
              "      <td>12<\/td>\n",
              "    <\/tr>\n",
              "    <tr>\n",
              "      <th>0<\/th>\n",
              "      <td>Chemistry<\/td>\n",
              "      <td>Female<\/td>\n",
              "      <td>7<\/td>\n",
              "    <\/tr>\n",
              "    <tr>\n",
              "      <th>10<\/th>\n",
              "      <td>Physics<\/td>\n",
              "      <td>Female<\/td>\n",
              "      <td>4<\/td>\n",
              "    <\/tr>\n",
              "    <tr>\n",
              "      <th>2<\/th>\n",
              "      <td>Economics<\/td>\n",
              "      <td>Female<\/td>\n",
              "      <td>2<\/td>\n",
              "    <\/tr>\n",
              "  <\/tbody>\n",
              "<\/table>\n",
              "<\/div>"
            ]
          },
          "metadata":{
            
          },
          "output_type":"display_data"
        }
      ],
      "metadata":{
        
      }
    },
    {
      "cell_type":"code",
      "source":[
        "bar = px.bar(cat_men_women,\n",
        "             x = 'category',\n",
        "             y = 'prize',\n",
        "             color = 'sex',\n",
        "             title='Number of Prizes per Category')\n",
        "\n",
        "bar.update_layout(xaxis_title='Categories',\n",
        "                  yaxis_title='Number of Prizes')\n",
        "\n",
        "bar.show()"
      ],
      "execution_count":9,
      "outputs":[
        {
          "data":{
            "text\/plain":[
              "Unsupported"
            ]
          },
          "metadata":{
            
          },
          "output_type":"display_data"
        }
      ],
      "metadata":{
        
      }
    },
    {
      "cell_type":"code",
      "source":[
        
      ],
      "execution_count":0,
      "outputs":[
        
      ],
      "metadata":{
        
      }
    },
    {
      "cell_type":"code",
      "source":[
        
      ],
      "execution_count":0,
      "outputs":[
        
      ],
      "metadata":{
        
      }
    },
    {
      "cell_type":"markdown",
      "source":[
        "# Number of Prizes Awarded Over Time\n",
        "\n",
        "**Challenge**: Are more prizes awarded recently than when the prize was first created? Show the trend in awards visually. \n",
        "* Count the number of prizes awarded every year. \n",
        "* Create a 5 year rolling average of the number of prizes (Hint: see previous lessons analysing Google Trends).\n",
        "* Using Matplotlib superimpose the rolling average on a scatter plot.\n",
        "* Show a tick mark on the x-axis for every 5 years from 1900 to 2020. (Hint: you'll need to use NumPy). \n",
        "\n",
        "<img src=https:\/\/i.imgur.com\/4jqYuWC.png width=650>\n",
        "\n",
        "* Use the [named colours](https:\/\/matplotlib.org\/3.1.0\/gallery\/color\/named_colors.html) to draw the data points in `dogerblue` while the rolling average is coloured in `crimson`. \n",
        "\n",
        "<img src=https:\/\/i.imgur.com\/u3RlcJn.png width=350>\n",
        "\n",
        "* Looking at the chart, did the first and second world wars have an impact on the number of prizes being given out? \n",
        "* What could be the reason for the trend in the chart?"
      ],
      "attachments":{
        
      },
      "metadata":{
        
      }
    },
    {
      "cell_type":"code",
      "source":[
        "prizes_per_year = df_data.year.value_counts().sort_index()\n",
        "prizes_per_year"
      ],
      "execution_count":10,
      "outputs":[
        {
          "data":{
            "text\/html":[
              
            ]
          },
          "metadata":{
            
          },
          "output_type":"display_data"
        }
      ],
      "metadata":{
        
      }
    },
    {
      "cell_type":"code",
      "source":[
        "prize_per_year = df_data.groupby(by='year').count().prize \n",
        "prize_per_year"
      ],
      "execution_count":13,
      "outputs":[
        {
          "data":{
            "text\/html":[
              
            ]
          },
          "metadata":{
            
          },
          "output_type":"display_data"
        }
      ],
      "metadata":{
        
      }
    },
    {
      "cell_type":"code",
      "source":[
        "moving_average = prize_per_year.rolling(window=5).mean()"
      ],
      "execution_count":15,
      "outputs":[
        
      ],
      "metadata":{
        
      }
    },
    {
      "cell_type":"code",
      "source":[
        "plt.figure(figsize=(12,8), dpi=240)\n",
        "plt.title('Nobel Prizes per Year', fontsize=18)\n",
        "plt.yticks(fontsize=14)\n",
        "plt.xticks(ticks=np.arange(1900, 2021, step=5), \n",
        "           fontsize=14, \n",
        "           rotation=45)\n",
        "\n",
        "ax = plt.gca() # get current axis\n",
        "ax.set_xlim(1900, 2020)\n",
        "\n",
        "ax.set_xlabel('Year', fontsize=16)\n",
        "ax.set_ylabel('Number of Prizes', fontsize=16)\n",
        "\n",
        "ax.scatter(prize_per_year.index, prize_per_year.values, s=100, alpha=0.7)\n",
        "\n",
        "ax.plot(prize_per_year.index, \n",
        "        moving_average.values, \n",
        "        c='crimson', \n",
        "        linewidth=3,)\n",
        "\n",
        "plt.show()"
      ],
      "execution_count":16,
      "outputs":[
        {
          "data":{
            "image\/png":"[encoded data removed]"
          },
          "metadata":{
            "image\/png":{
              
            }
          },
          "output_type":"display_data"
        }
      ],
      "metadata":{
        
      }
    },
    {
      "cell_type":"markdown",
      "source":[
        "# Are More Prizes Shared Than Before?\n",
        "\n",
        "**Challenge**: Investigate if more prizes are shared than before. \n",
        "\n",
        "* Calculate the average prize share of the winners on a year by year basis.\n",
        "* Calculate the 5 year rolling average of the percentage share.\n",
        "* Copy-paste the cell from the chart you created above.\n",
        "* Modify the code to add a secondary axis to your Matplotlib chart.\n",
        "* Plot the rolling average of the prize share on this chart. \n",
        "* See if you can invert the secondary y-axis to make the relationship even more clear. "
      ],
      "attachments":{
        
      },
      "metadata":{
        
      }
    },
    {
      "cell_type":"code",
      "source":[
        "df_data.head()"
      ],
      "execution_count":50,
      "outputs":[
        {
          "data":{
            "text\/html":[
              "<div>\n",
              "<style scoped>\n",
              "    .dataframe tbody tr th:only-of-type {\n",
              "        vertical-align: middle;\n",
              "    }\n",
              "\n",
              "    .dataframe tbody tr th {\n",
              "        vertical-align: top;\n",
              "    }\n",
              "\n",
              "    .dataframe thead th {\n",
              "        text-align: right;\n",
              "    }\n",
              "<\/style>\n",
              "<table border=\"1\" class=\"dataframe\">\n",
              "  <thead>\n",
              "    <tr style=\"text-align: right;\">\n",
              "      <th><\/th>\n",
              "      <th>year<\/th>\n",
              "      <th>category<\/th>\n",
              "      <th>prize<\/th>\n",
              "      <th>motivation<\/th>\n",
              "      <th>prize_share<\/th>\n",
              "      <th>laureate_type<\/th>\n",
              "      <th>full_name<\/th>\n",
              "      <th>birth_date<\/th>\n",
              "      <th>birth_city<\/th>\n",
              "      <th>birth_country<\/th>\n",
              "      <th>birth_country_current<\/th>\n",
              "      <th>sex<\/th>\n",
              "      <th>organization_name<\/th>\n",
              "      <th>organization_city<\/th>\n",
              "      <th>organization_country<\/th>\n",
              "      <th>ISO<\/th>\n",
              "      <th>share_pct<\/th>\n",
              "    <\/tr>\n",
              "  <\/thead>\n",
              "  <tbody>\n",
              "    <tr>\n",
              "      <th>0<\/th>\n",
              "      <td>1901<\/td>\n",
              "      <td>Chemistry<\/td>\n",
              "      <td>The Nobel Prize in Chemistry 1901<\/td>\n",
              "      <td>\"in recognition of the extraordinary services ...<\/td>\n",
              "      <td>1\/1<\/td>\n",
              "      <td>Individual<\/td>\n",
              "      <td>Jacobus Henricus van 't Hoff<\/td>\n",
              "      <td>1852-08-30<\/td>\n",
              "      <td>Rotterdam<\/td>\n",
              "      <td>Netherlands<\/td>\n",
              "      <td>Netherlands<\/td>\n",
              "      <td>Male<\/td>\n",
              "      <td>Berlin University<\/td>\n",
              "      <td>Berlin<\/td>\n",
              "      <td>Germany<\/td>\n",
              "      <td>NLD<\/td>\n",
              "      <td>1.00<\/td>\n",
              "    <\/tr>\n",
              "    <tr>\n",
              "      <th>1<\/th>\n",
              "      <td>1901<\/td>\n",
              "      <td>Literature<\/td>\n",
              "      <td>The Nobel Prize in Literature 1901<\/td>\n",
              "      <td>\"in special recognition of his poetic composit...<\/td>\n",
              "      <td>1\/1<\/td>\n",
              "      <td>Individual<\/td>\n",
              "      <td>Sully Prudhomme<\/td>\n",
              "      <td>1839-03-16<\/td>\n",
              "      <td>Paris<\/td>\n",
              "      <td>France<\/td>\n",
              "      <td>France<\/td>\n",
              "      <td>Male<\/td>\n",
              "      <td>NaN<\/td>\n",
              "      <td>NaN<\/td>\n",
              "      <td>NaN<\/td>\n",
              "      <td>FRA<\/td>\n",
              "      <td>1.00<\/td>\n",
              "    <\/tr>\n",
              "    <tr>\n",
              "      <th>2<\/th>\n",
              "      <td>1901<\/td>\n",
              "      <td>Medicine<\/td>\n",
              "      <td>The Nobel Prize in Physiology or Medicine 1901<\/td>\n",
              "      <td>\"for his work on serum therapy, especially its...<\/td>\n",
              "      <td>1\/1<\/td>\n",
              "      <td>Individual<\/td>\n",
              "      <td>Emil Adolf von Behring<\/td>\n",
              "      <td>1854-03-15<\/td>\n",
              "      <td>Hansdorf (Lawice)<\/td>\n",
              "      <td>Prussia (Poland)<\/td>\n",
              "      <td>Poland<\/td>\n",
              "      <td>Male<\/td>\n",
              "      <td>Marburg University<\/td>\n",
              "      <td>Marburg<\/td>\n",
              "      <td>Germany<\/td>\n",
              "      <td>POL<\/td>\n",
              "      <td>1.00<\/td>\n",
              "    <\/tr>\n",
              "    <tr>\n",
              "      <th>3<\/th>\n",
              "      <td>1901<\/td>\n",
              "      <td>Peace<\/td>\n",
              "      <td>The Nobel Peace Prize 1901<\/td>\n",
              "      <td>NaN<\/td>\n",
              "      <td>1\/2<\/td>\n",
              "      <td>Individual<\/td>\n",
              "      <td>Frédéric Passy<\/td>\n",
              "      <td>1822-05-20<\/td>\n",
              "      <td>Paris<\/td>\n",
              "      <td>France<\/td>\n",
              "      <td>France<\/td>\n",
              "      <td>Male<\/td>\n",
              "      <td>NaN<\/td>\n",
              "      <td>NaN<\/td>\n",
              "      <td>NaN<\/td>\n",
              "      <td>FRA<\/td>\n",
              "      <td>0.50<\/td>\n",
              "    <\/tr>\n",
              "    <tr>\n",
              "      <th>4<\/th>\n",
              "      <td>1901<\/td>\n",
              "      <td>Peace<\/td>\n",
              "      <td>The Nobel Peace Prize 1901<\/td>\n",
              "      <td>NaN<\/td>\n",
              "      <td>1\/2<\/td>\n",
              "      <td>Individual<\/td>\n",
              "      <td>Jean Henry Dunant<\/td>\n",
              "      <td>1828-05-08<\/td>\n",
              "      <td>Geneva<\/td>\n",
              "      <td>Switzerland<\/td>\n",
              "      <td>Switzerland<\/td>\n",
              "      <td>Male<\/td>\n",
              "      <td>NaN<\/td>\n",
              "      <td>NaN<\/td>\n",
              "      <td>NaN<\/td>\n",
              "      <td>CHE<\/td>\n",
              "      <td>0.50<\/td>\n",
              "    <\/tr>\n",
              "  <\/tbody>\n",
              "<\/table>\n",
              "<\/div>"
            ]
          },
          "metadata":{
            
          },
          "output_type":"display_data"
        }
      ],
      "metadata":{
        
      }
    },
    {
      "cell_type":"code",
      "source":[
        "avg_prize = df_data.groupby(by='year').mean().round(4).share_pct\n",
        "avg_prize"
      ],
      "execution_count":61,
      "outputs":[
        {
          "data":{
            "text\/html":[
              
            ]
          },
          "metadata":{
            
          },
          "output_type":"display_data"
        }
      ],
      "metadata":{
        
      }
    },
    {
      "cell_type":"code",
      "source":[
        "rolling_avg_prize = avg_prize.rolling(window=5).mean()"
      ],
      "execution_count":56,
      "outputs":[
        
      ],
      "metadata":{
        
      }
    },
    {
      "cell_type":"code",
      "source":[
        "plt.figure(figsize=(12,8), dpi=240)\n",
        "plt.title('Nobel Prizes per Year', fontsize=18)\n",
        "plt.yticks(fontsize=14)\n",
        "plt.xticks(ticks=np.arange(1900, 2021, step=5), \n",
        "           fontsize=14, \n",
        "           rotation=45)\n",
        "\n",
        "ax1 = plt.gca() # get current axis\n",
        "ax2 = ax1.twinx()\n",
        "ax1.set_xlim(1900, 2020)\n",
        "\n",
        "# Can invert axis\n",
        "ax2.invert_yaxis()\n",
        "\n",
        "ax1.set_xlabel('Year', fontsize=16)\n",
        "ax1.set_ylabel('Number of Prizes', fontsize=16)\n",
        "ax2.set_ylabel('Averege shared Prizes', fontsize=16)\n",
        "\n",
        "ax1.scatter(prize_per_year.index, prize_per_year.values, s=100, alpha=0.7)\n",
        "\n",
        "ax1.plot(prize_per_year.index, \n",
        "        moving_average.values, \n",
        "        c='crimson', \n",
        "        linewidth=3,)\n",
        "\n",
        "ax2.plot(prize_per_year.index, \n",
        "        rolling_avg_prize.values, \n",
        "        c='darkslategrey', \n",
        "        linewidth=3,)\n",
        "\n",
        "plt.show()"
      ],
      "execution_count":63,
      "outputs":[
        {
          "data":{
            "image\/png":"[encoded data removed]"
          },
          "metadata":{
            "image\/png":{
              
            }
          },
          "output_type":"display_data"
        }
      ],
      "metadata":{
        
      }
    },
    {
      "cell_type":"code",
      "source":[
        
      ],
      "execution_count":0,
      "outputs":[
        
      ],
      "metadata":{
        
      }
    },
    {
      "cell_type":"markdown",
      "source":[
        "# The Countries with the Most Nobel Prizes"
      ],
      "attachments":{
        
      },
      "metadata":{
        
      }
    },
    {
      "cell_type":"markdown",
      "source":[
        "**Challenge**: \n",
        "* Create a Pandas DataFrame called `top20_countries` that has the two columns. The `prize` column should contain the total number of prizes won. \n",
        "\n",
        "<img src=https:\/\/i.imgur.com\/6HM8rfB.png width=350>\n",
        "\n",
        "* Is it best to use `birth_country`, `birth_country_current` or `organization_country`? \n",
        "* What are some potential problems when using `birth_country` or any of the others? Which column is the least problematic? \n",
        "* Then use plotly to create a horizontal bar chart showing the number of prizes won by each country. Here's what you're after:\n",
        "\n",
        "<img src=https:\/\/i.imgur.com\/agcJdRS.png width=750>\n",
        "\n",
        "* What is the ranking for the top 20 countries in terms of the number of prizes?"
      ],
      "attachments":{
        
      },
      "metadata":{
        
      }
    },
    {
      "cell_type":"code",
      "source":[
        "top20_countries = df_data.groupby(by='birth_country_current', as_index=False).count()[['birth_country_current','prize']].sort_values(by='prize', ascending=False)[:20]\n",
        "top20_countries"
      ],
      "execution_count":56,
      "outputs":[
        {
          "data":{
            "text\/html":[
              "<div>\n",
              "<style scoped>\n",
              "    .dataframe tbody tr th:only-of-type {\n",
              "        vertical-align: middle;\n",
              "    }\n",
              "\n",
              "    .dataframe tbody tr th {\n",
              "        vertical-align: top;\n",
              "    }\n",
              "\n",
              "    .dataframe thead th {\n",
              "        text-align: right;\n",
              "    }\n",
              "<\/style>\n",
              "<table border=\"1\" class=\"dataframe\">\n",
              "  <thead>\n",
              "    <tr style=\"text-align: right;\">\n",
              "      <th><\/th>\n",
              "      <th>birth_country_current<\/th>\n",
              "      <th>prize<\/th>\n",
              "    <\/tr>\n",
              "  <\/thead>\n",
              "  <tbody>\n",
              "    <tr>\n",
              "      <th>74<\/th>\n",
              "      <td>United States of America<\/td>\n",
              "      <td>281<\/td>\n",
              "    <\/tr>\n",
              "    <tr>\n",
              "      <th>73<\/th>\n",
              "      <td>United Kingdom<\/td>\n",
              "      <td>105<\/td>\n",
              "    <\/tr>\n",
              "    <tr>\n",
              "      <th>26<\/th>\n",
              "      <td>Germany<\/td>\n",
              "      <td>84<\/td>\n",
              "    <\/tr>\n",
              "    <tr>\n",
              "      <th>25<\/th>\n",
              "      <td>France<\/td>\n",
              "      <td>57<\/td>\n",
              "    <\/tr>\n",
              "    <tr>\n",
              "      <th>67<\/th>\n",
              "      <td>Sweden<\/td>\n",
              "      <td>29<\/td>\n",
              "    <\/tr>\n",
              "    <tr>\n",
              "      <th>40<\/th>\n",
              "      <td>Japan<\/td>\n",
              "      <td>27<\/td>\n",
              "    <\/tr>\n",
              "    <tr>\n",
              "      <th>57<\/th>\n",
              "      <td>Poland<\/td>\n",
              "      <td>27<\/td>\n",
              "    <\/tr>\n",
              "    <tr>\n",
              "      <th>61<\/th>\n",
              "      <td>Russia<\/td>\n",
              "      <td>26<\/td>\n",
              "    <\/tr>\n",
              "    <tr>\n",
              "      <th>11<\/th>\n",
              "      <td>Canada<\/td>\n",
              "      <td>20<\/td>\n",
              "    <\/tr>\n",
              "    <tr>\n",
              "      <th>68<\/th>\n",
              "      <td>Switzerland<\/td>\n",
              "      <td>19<\/td>\n",
              "    <\/tr>\n",
              "    <tr>\n",
              "      <th>39<\/th>\n",
              "      <td>Italy<\/td>\n",
              "      <td>19<\/td>\n",
              "    <\/tr>\n",
              "    <tr>\n",
              "      <th>3<\/th>\n",
              "      <td>Austria<\/td>\n",
              "      <td>18<\/td>\n",
              "    <\/tr>\n",
              "    <tr>\n",
              "      <th>51<\/th>\n",
              "      <td>Netherlands<\/td>\n",
              "      <td>18<\/td>\n",
              "    <\/tr>\n",
              "    <tr>\n",
              "      <th>20<\/th>\n",
              "      <td>Denmark<\/td>\n",
              "      <td>12<\/td>\n",
              "    <\/tr>\n",
              "    <tr>\n",
              "      <th>13<\/th>\n",
              "      <td>China<\/td>\n",
              "      <td>12<\/td>\n",
              "    <\/tr>\n",
              "    <tr>\n",
              "      <th>54<\/th>\n",
              "      <td>Norway<\/td>\n",
              "      <td>12<\/td>\n",
              "    <\/tr>\n",
              "    <tr>\n",
              "      <th>2<\/th>\n",
              "      <td>Australia<\/td>\n",
              "      <td>10<\/td>\n",
              "    <\/tr>\n",
              "    <tr>\n",
              "      <th>7<\/th>\n",
              "      <td>Belgium<\/td>\n",
              "      <td>9<\/td>\n",
              "    <\/tr>\n",
              "    <tr>\n",
              "      <th>33<\/th>\n",
              "      <td>India<\/td>\n",
              "      <td>9<\/td>\n",
              "    <\/tr>\n",
              "    <tr>\n",
              "      <th>65<\/th>\n",
              "      <td>South Africa<\/td>\n",
              "      <td>9<\/td>\n",
              "    <\/tr>\n",
              "  <\/tbody>\n",
              "<\/table>\n",
              "<\/div>"
            ]
          },
          "metadata":{
            
          },
          "output_type":"display_data"
        }
      ],
      "metadata":{
        
      }
    },
    {
      "cell_type":"code",
      "source":[
        "h_bar = px.bar(x = top20_countries.prize,\n",
        "               y = top20_countries.birth_country_current,\n",
        "               orientation ='h',\n",
        "               color=top20_countries.prize,\n",
        "               title = 'Top 20 Caoutries with Nobel Prizes')\n",
        "\n",
        "h_bar.update_layout(xaxis_title = 'Number of Prizes', yaxis_title='Coutry', coloraxis_showscale = False)\n",
        "h_bar.update_yaxes(autorange=\"reversed\")\n",
        "\n",
        "h_bar.show()"
      ],
      "execution_count":95,
      "outputs":[
        {
          "data":{
            "text\/plain":[
              "Unsupported"
            ]
          },
          "metadata":{
            
          },
          "output_type":"display_data"
        }
      ],
      "metadata":{
        
      }
    },
    {
      "cell_type":"code",
      "source":[
        
      ],
      "execution_count":0,
      "outputs":[
        
      ],
      "metadata":{
        
      }
    },
    {
      "cell_type":"code",
      "source":[
        
      ],
      "execution_count":0,
      "outputs":[
        
      ],
      "metadata":{
        
      }
    },
    {
      "cell_type":"code",
      "source":[
        
      ],
      "execution_count":0,
      "outputs":[
        
      ],
      "metadata":{
        
      }
    },
    {
      "cell_type":"markdown",
      "source":[
        "# Use a Choropleth Map to Show the Number of Prizes Won by Country\n",
        "\n",
        "* Create this choropleth map using [the plotly documentation](https:\/\/plotly.com\/python\/choropleth-maps\/):\n",
        "\n",
        "<img src=https:\/\/i.imgur.com\/s4lqYZH.png>\n",
        "\n",
        "* Experiment with [plotly's available colours](https:\/\/plotly.com\/python\/builtin-colorscales\/). I quite like the sequential colour `matter` on this map. \n",
        "\n",
        "Hint: You'll need to use a 3 letter country code for each country. "
      ],
      "attachments":{
        
      },
      "metadata":{
        
      }
    },
    {
      "cell_type":"code",
      "source":[
        "df_data.info()"
      ],
      "execution_count":96,
      "outputs":[
        {
          "name":"stdout",
          "text":[
            "<class 'pandas.core.frame.DataFrame'>\n",
            "RangeIndex: 962 entries, 0 to 961\n",
            "Data columns (total 17 columns):\n",
            " #   Column                 Non-Null Count  Dtype         \n",
            "---  ------                 --------------  -----         \n",
            " 0   year                   962 non-null    int64         \n",
            " 1   category               962 non-null    object        \n",
            " 2   prize                  962 non-null    object        \n",
            " 3   motivation             874 non-null    object        \n",
            " 4   prize_share            962 non-null    object        \n",
            " 5   laureate_type          962 non-null    object        \n",
            " 6   full_name              962 non-null    object        \n",
            " 7   birth_date             934 non-null    datetime64[ns]\n",
            " 8   birth_city             931 non-null    object        \n",
            " 9   birth_country          934 non-null    object        \n",
            " 10  birth_country_current  934 non-null    object        \n",
            " 11  sex                    934 non-null    object        \n",
            " 12  organization_name      707 non-null    object        \n",
            " 13  organization_city      707 non-null    object        \n",
            " 14  organization_country   708 non-null    object        \n",
            " 15  ISO                    934 non-null    object        \n",
            " 16  share_pct              962 non-null    float64       \n",
            "dtypes: datetime64[ns](1), float64(1), int64(1), object(14)\n",
            "memory usage: 127.9+ KB\n"
          ],
          "output_type":"stream"
        }
      ],
      "metadata":{
        
      }
    },
    {
      "cell_type":"code",
      "source":[
        "coutry_map = df_data.groupby(by='ISO').count().prize\n",
        "coutry_map"
      ],
      "execution_count":41,
      "outputs":[
        {
          "data":{
            "text\/html":[
              
            ]
          },
          "metadata":{
            
          },
          "output_type":"display_data"
        }
      ],
      "metadata":{
        
      }
    },
    {
      "cell_type":"code",
      "source":[
        "fig = px.choropleth(coutry_map,\n",
        "                    locations=coutry_map.index,\n",
        "                    color=coutry_map.values,\n",
        "                    color_continuous_scale=px.colors.sequential.matter)\n",
        "fig.show()"
      ],
      "execution_count":42,
      "outputs":[
        {
          "data":{
            "text\/plain":[
              "Unsupported"
            ]
          },
          "metadata":{
            
          },
          "output_type":"display_data"
        }
      ],
      "metadata":{
        
      }
    },
    {
      "cell_type":"code",
      "source":[
        "df_countries = df_data.groupby(['birth_country_current', 'ISO'], \n",
        "                               as_index=False).agg({'prize': pd.Series.count})\n",
        "df_countries.sort_values('prize', ascending=False, inplace=True)\n",
        "df_countries"
      ],
      "execution_count":43,
      "outputs":[
        {
          "data":{
            "text\/html":[
              "<div>\n",
              "<style scoped>\n",
              "    .dataframe tbody tr th:only-of-type {\n",
              "        vertical-align: middle;\n",
              "    }\n",
              "\n",
              "    .dataframe tbody tr th {\n",
              "        vertical-align: top;\n",
              "    }\n",
              "\n",
              "    .dataframe thead th {\n",
              "        text-align: right;\n",
              "    }\n",
              "<\/style>\n",
              "<table border=\"1\" class=\"dataframe\">\n",
              "  <thead>\n",
              "    <tr style=\"text-align: right;\">\n",
              "      <th><\/th>\n",
              "      <th>birth_country_current<\/th>\n",
              "      <th>ISO<\/th>\n",
              "      <th>prize<\/th>\n",
              "    <\/tr>\n",
              "  <\/thead>\n",
              "  <tbody>\n",
              "    <tr>\n",
              "      <th>74<\/th>\n",
              "      <td>United States of America<\/td>\n",
              "      <td>USA<\/td>\n",
              "      <td>281<\/td>\n",
              "    <\/tr>\n",
              "    <tr>\n",
              "      <th>73<\/th>\n",
              "      <td>United Kingdom<\/td>\n",
              "      <td>GBR<\/td>\n",
              "      <td>105<\/td>\n",
              "    <\/tr>\n",
              "    <tr>\n",
              "      <th>26<\/th>\n",
              "      <td>Germany<\/td>\n",
              "      <td>DEU<\/td>\n",
              "      <td>84<\/td>\n",
              "    <\/tr>\n",
              "    <tr>\n",
              "      <th>25<\/th>\n",
              "      <td>France<\/td>\n",
              "      <td>FRA<\/td>\n",
              "      <td>57<\/td>\n",
              "    <\/tr>\n",
              "    <tr>\n",
              "      <th>67<\/th>\n",
              "      <td>Sweden<\/td>\n",
              "      <td>SWE<\/td>\n",
              "      <td>29<\/td>\n",
              "    <\/tr>\n",
              "    <tr>\n",
              "      <th>...<\/th>\n",
              "      <td>...<\/td>\n",
              "      <td>...<\/td>\n",
              "      <td>...<\/td>\n",
              "    <\/tr>\n",
              "    <tr>\n",
              "      <th>32<\/th>\n",
              "      <td>Iceland<\/td>\n",
              "      <td>ISL<\/td>\n",
              "      <td>1<\/td>\n",
              "    <\/tr>\n",
              "    <tr>\n",
              "      <th>47<\/th>\n",
              "      <td>Madagascar<\/td>\n",
              "      <td>MDG<\/td>\n",
              "      <td>1<\/td>\n",
              "    <\/tr>\n",
              "    <tr>\n",
              "      <th>34<\/th>\n",
              "      <td>Indonesia<\/td>\n",
              "      <td>IDN<\/td>\n",
              "      <td>1<\/td>\n",
              "    <\/tr>\n",
              "    <tr>\n",
              "      <th>36<\/th>\n",
              "      <td>Iraq<\/td>\n",
              "      <td>IRQ<\/td>\n",
              "      <td>1<\/td>\n",
              "    <\/tr>\n",
              "    <tr>\n",
              "      <th>78<\/th>\n",
              "      <td>Zimbabwe<\/td>\n",
              "      <td>ZWE<\/td>\n",
              "      <td>1<\/td>\n",
              "    <\/tr>\n",
              "  <\/tbody>\n",
              "<\/table>\n",
              "<p>79 rows × 3 columns<\/p>\n",
              "<\/div>"
            ]
          },
          "metadata":{
            
          },
          "output_type":"display_data"
        }
      ],
      "metadata":{
        
      }
    },
    {
      "cell_type":"code",
      "source":[
        "fig_count = px.choropleth(df_countries,\n",
        "                    locations='ISO',\n",
        "                    color='prize',\n",
        "                    hover_name='birth_country_current',\n",
        "                    color_continuous_scale=px.colors.sequential.matter)\n",
        "fig_count.show()"
      ],
      "execution_count":113,
      "outputs":[
        {
          "data":{
            "text\/plain":[
              "Unsupported"
            ]
          },
          "metadata":{
            
          },
          "output_type":"display_data"
        }
      ],
      "metadata":{
        
      }
    },
    {
      "cell_type":"code",
      "source":[
        
      ],
      "execution_count":0,
      "outputs":[
        
      ],
      "metadata":{
        
      }
    },
    {
      "cell_type":"code",
      "source":[
        
      ],
      "execution_count":0,
      "outputs":[
        
      ],
      "metadata":{
        
      }
    },
    {
      "cell_type":"markdown",
      "source":[
        "# In Which Categories are the Different Countries Winning Prizes? \n",
        "\n",
        "**Challenge**: See if you can divide up the plotly bar chart you created above to show the which categories made up the total number of prizes. Here's what you're aiming for:\n",
        "\n",
        "<img src=https:\/\/i.imgur.com\/iGaIKCL.png>\n",
        "\n",
        "* In which category are Germany and Japan the weakest compared to the United States?\n",
        "* In which category does Germany have more prizes than the UK?\n",
        "* In which categories does France have more prizes than Germany?\n",
        "* Which category makes up most of Australia's nobel prizes?\n",
        "* Which category makes up half of the prizes in the Netherlands?\n",
        "* Does the United States have more prizes in Economics than all of France? What about in Physics or Medicine?\n",
        "\n",
        "\n",
        "The hard part is preparing the data for this chart! \n",
        "\n",
        "\n",
        "*Hint*: Take a two-step approach. The first step is grouping the data by country and category. Then you can create a DataFrame that looks something like this:\n",
        "\n",
        "<img src=https:\/\/i.imgur.com\/VKjzKa1.png width=450>"
      ],
      "attachments":{
        
      },
      "metadata":{
        
      }
    },
    {
      "cell_type":"code",
      "source":[
        "diff_cat_prizes = df_data.groupby(by=['birth_country_current', 'category'], as_index=False).agg({'prize': pd.Series.count})\n",
        "diff_cat_prizes.sort_values(by='prize', ascending=False, inplace=True)\n",
        "diff_cat_prizes"
      ],
      "execution_count":54,
      "outputs":[
        {
          "data":{
            "text\/html":[
              "<div>\n",
              "<style scoped>\n",
              "    .dataframe tbody tr th:only-of-type {\n",
              "        vertical-align: middle;\n",
              "    }\n",
              "\n",
              "    .dataframe tbody tr th {\n",
              "        vertical-align: top;\n",
              "    }\n",
              "\n",
              "    .dataframe thead th {\n",
              "        text-align: right;\n",
              "    }\n",
              "<\/style>\n",
              "<table border=\"1\" class=\"dataframe\">\n",
              "  <thead>\n",
              "    <tr style=\"text-align: right;\">\n",
              "      <th><\/th>\n",
              "      <th>birth_country_current<\/th>\n",
              "      <th>category<\/th>\n",
              "      <th>prize<\/th>\n",
              "    <\/tr>\n",
              "  <\/thead>\n",
              "  <tbody>\n",
              "    <tr>\n",
              "      <th>204<\/th>\n",
              "      <td>United States of America<\/td>\n",
              "      <td>Medicine<\/td>\n",
              "      <td>78<\/td>\n",
              "    <\/tr>\n",
              "    <tr>\n",
              "      <th>206<\/th>\n",
              "      <td>United States of America<\/td>\n",
              "      <td>Physics<\/td>\n",
              "      <td>70<\/td>\n",
              "    <\/tr>\n",
              "    <tr>\n",
              "      <th>201<\/th>\n",
              "      <td>United States of America<\/td>\n",
              "      <td>Chemistry<\/td>\n",
              "      <td>55<\/td>\n",
              "    <\/tr>\n",
              "    <tr>\n",
              "      <th>202<\/th>\n",
              "      <td>United States of America<\/td>\n",
              "      <td>Economics<\/td>\n",
              "      <td>49<\/td>\n",
              "    <\/tr>\n",
              "    <tr>\n",
              "      <th>198<\/th>\n",
              "      <td>United Kingdom<\/td>\n",
              "      <td>Medicine<\/td>\n",
              "      <td>28<\/td>\n",
              "    <\/tr>\n",
              "    <tr>\n",
              "      <th>...<\/th>\n",
              "      <td>...<\/td>\n",
              "      <td>...<\/td>\n",
              "      <td>...<\/td>\n",
              "    <\/tr>\n",
              "    <tr>\n",
              "      <th>97<\/th>\n",
              "      <td>Iraq<\/td>\n",
              "      <td>Peace<\/td>\n",
              "      <td>1<\/td>\n",
              "    <\/tr>\n",
              "    <tr>\n",
              "      <th>99<\/th>\n",
              "      <td>Ireland<\/td>\n",
              "      <td>Medicine<\/td>\n",
              "      <td>1<\/td>\n",
              "    <\/tr>\n",
              "    <tr>\n",
              "      <th>100<\/th>\n",
              "      <td>Ireland<\/td>\n",
              "      <td>Physics<\/td>\n",
              "      <td>1<\/td>\n",
              "    <\/tr>\n",
              "    <tr>\n",
              "      <th>102<\/th>\n",
              "      <td>Israel<\/td>\n",
              "      <td>Economics<\/td>\n",
              "      <td>1<\/td>\n",
              "    <\/tr>\n",
              "    <tr>\n",
              "      <th>210<\/th>\n",
              "      <td>Zimbabwe<\/td>\n",
              "      <td>Peace<\/td>\n",
              "      <td>1<\/td>\n",
              "    <\/tr>\n",
              "  <\/tbody>\n",
              "<\/table>\n",
              "<p>211 rows × 3 columns<\/p>\n",
              "<\/div>"
            ]
          },
          "metadata":{
            
          },
          "output_type":"display_data"
        }
      ],
      "metadata":{
        
      }
    },
    {
      "cell_type":"code",
      "source":[
        "merged_df = pd.merge(diff_cat_prizes, top20_countries, on='birth_country_current')\n",
        "merged_df"
      ],
      "execution_count":57,
      "outputs":[
        {
          "data":{
            "text\/html":[
              "<div>\n",
              "<style scoped>\n",
              "    .dataframe tbody tr th:only-of-type {\n",
              "        vertical-align: middle;\n",
              "    }\n",
              "\n",
              "    .dataframe tbody tr th {\n",
              "        vertical-align: top;\n",
              "    }\n",
              "\n",
              "    .dataframe thead th {\n",
              "        text-align: right;\n",
              "    }\n",
              "<\/style>\n",
              "<table border=\"1\" class=\"dataframe\">\n",
              "  <thead>\n",
              "    <tr style=\"text-align: right;\">\n",
              "      <th><\/th>\n",
              "      <th>birth_country_current<\/th>\n",
              "      <th>category<\/th>\n",
              "      <th>prize_x<\/th>\n",
              "      <th>prize_y<\/th>\n",
              "    <\/tr>\n",
              "  <\/thead>\n",
              "  <tbody>\n",
              "    <tr>\n",
              "      <th>0<\/th>\n",
              "      <td>United States of America<\/td>\n",
              "      <td>Medicine<\/td>\n",
              "      <td>78<\/td>\n",
              "      <td>281<\/td>\n",
              "    <\/tr>\n",
              "    <tr>\n",
              "      <th>1<\/th>\n",
              "      <td>United States of America<\/td>\n",
              "      <td>Physics<\/td>\n",
              "      <td>70<\/td>\n",
              "      <td>281<\/td>\n",
              "    <\/tr>\n",
              "    <tr>\n",
              "      <th>2<\/th>\n",
              "      <td>United States of America<\/td>\n",
              "      <td>Chemistry<\/td>\n",
              "      <td>55<\/td>\n",
              "      <td>281<\/td>\n",
              "    <\/tr>\n",
              "    <tr>\n",
              "      <th>3<\/th>\n",
              "      <td>United States of America<\/td>\n",
              "      <td>Economics<\/td>\n",
              "      <td>49<\/td>\n",
              "      <td>281<\/td>\n",
              "    <\/tr>\n",
              "    <tr>\n",
              "      <th>4<\/th>\n",
              "      <td>United States of America<\/td>\n",
              "      <td>Peace<\/td>\n",
              "      <td>19<\/td>\n",
              "      <td>281<\/td>\n",
              "    <\/tr>\n",
              "    <tr>\n",
              "      <th>...<\/th>\n",
              "      <td>...<\/td>\n",
              "      <td>...<\/td>\n",
              "      <td>...<\/td>\n",
              "      <td>...<\/td>\n",
              "    <\/tr>\n",
              "    <tr>\n",
              "      <th>104<\/th>\n",
              "      <td>India<\/td>\n",
              "      <td>Literature<\/td>\n",
              "      <td>2<\/td>\n",
              "      <td>9<\/td>\n",
              "    <\/tr>\n",
              "    <tr>\n",
              "      <th>105<\/th>\n",
              "      <td>India<\/td>\n",
              "      <td>Medicine<\/td>\n",
              "      <td>2<\/td>\n",
              "      <td>9<\/td>\n",
              "    <\/tr>\n",
              "    <tr>\n",
              "      <th>106<\/th>\n",
              "      <td>India<\/td>\n",
              "      <td>Chemistry<\/td>\n",
              "      <td>1<\/td>\n",
              "      <td>9<\/td>\n",
              "    <\/tr>\n",
              "    <tr>\n",
              "      <th>107<\/th>\n",
              "      <td>India<\/td>\n",
              "      <td>Peace<\/td>\n",
              "      <td>1<\/td>\n",
              "      <td>9<\/td>\n",
              "    <\/tr>\n",
              "    <tr>\n",
              "      <th>108<\/th>\n",
              "      <td>India<\/td>\n",
              "      <td>Physics<\/td>\n",
              "      <td>1<\/td>\n",
              "      <td>9<\/td>\n",
              "    <\/tr>\n",
              "  <\/tbody>\n",
              "<\/table>\n",
              "<p>109 rows × 4 columns<\/p>\n",
              "<\/div>"
            ]
          },
          "metadata":{
            
          },
          "output_type":"display_data"
        }
      ],
      "metadata":{
        
      }
    },
    {
      "cell_type":"code",
      "source":[
        "merged_df.columns = ['birth_country_current', 'category', 'cat_prize', 'total_prizes']\n",
        "merged_df.sort_values(by='total_prizes', ascending=False, inplace=True)\n",
        "merged_df"
      ],
      "execution_count":62,
      "outputs":[
        {
          "data":{
            "text\/html":[
              "<div>\n",
              "<style scoped>\n",
              "    .dataframe tbody tr th:only-of-type {\n",
              "        vertical-align: middle;\n",
              "    }\n",
              "\n",
              "    .dataframe tbody tr th {\n",
              "        vertical-align: top;\n",
              "    }\n",
              "\n",
              "    .dataframe thead th {\n",
              "        text-align: right;\n",
              "    }\n",
              "<\/style>\n",
              "<table border=\"1\" class=\"dataframe\">\n",
              "  <thead>\n",
              "    <tr style=\"text-align: right;\">\n",
              "      <th><\/th>\n",
              "      <th>birth_country_current<\/th>\n",
              "      <th>category<\/th>\n",
              "      <th>cat_prize<\/th>\n",
              "      <th>total_prizes<\/th>\n",
              "    <\/tr>\n",
              "  <\/thead>\n",
              "  <tbody>\n",
              "    <tr>\n",
              "      <th>0<\/th>\n",
              "      <td>United States of America<\/td>\n",
              "      <td>Medicine<\/td>\n",
              "      <td>78<\/td>\n",
              "      <td>281<\/td>\n",
              "    <\/tr>\n",
              "    <tr>\n",
              "      <th>2<\/th>\n",
              "      <td>United States of America<\/td>\n",
              "      <td>Chemistry<\/td>\n",
              "      <td>55<\/td>\n",
              "      <td>281<\/td>\n",
              "    <\/tr>\n",
              "    <tr>\n",
              "      <th>3<\/th>\n",
              "      <td>United States of America<\/td>\n",
              "      <td>Economics<\/td>\n",
              "      <td>49<\/td>\n",
              "      <td>281<\/td>\n",
              "    <\/tr>\n",
              "    <tr>\n",
              "      <th>4<\/th>\n",
              "      <td>United States of America<\/td>\n",
              "      <td>Peace<\/td>\n",
              "      <td>19<\/td>\n",
              "      <td>281<\/td>\n",
              "    <\/tr>\n",
              "    <tr>\n",
              "      <th>5<\/th>\n",
              "      <td>United States of America<\/td>\n",
              "      <td>Literature<\/td>\n",
              "      <td>10<\/td>\n",
              "      <td>281<\/td>\n",
              "    <\/tr>\n",
              "    <tr>\n",
              "      <th>...<\/th>\n",
              "      <td>...<\/td>\n",
              "      <td>...<\/td>\n",
              "      <td>...<\/td>\n",
              "      <td>...<\/td>\n",
              "    <\/tr>\n",
              "    <tr>\n",
              "      <th>91<\/th>\n",
              "      <td>South Africa<\/td>\n",
              "      <td>Chemistry<\/td>\n",
              "      <td>1<\/td>\n",
              "      <td>9<\/td>\n",
              "    <\/tr>\n",
              "    <tr>\n",
              "      <th>96<\/th>\n",
              "      <td>Belgium<\/td>\n",
              "      <td>Physics<\/td>\n",
              "      <td>1<\/td>\n",
              "      <td>9<\/td>\n",
              "    <\/tr>\n",
              "    <tr>\n",
              "      <th>95<\/th>\n",
              "      <td>Belgium<\/td>\n",
              "      <td>Literature<\/td>\n",
              "      <td>1<\/td>\n",
              "      <td>9<\/td>\n",
              "    <\/tr>\n",
              "    <tr>\n",
              "      <th>94<\/th>\n",
              "      <td>Belgium<\/td>\n",
              "      <td>Chemistry<\/td>\n",
              "      <td>1<\/td>\n",
              "      <td>9<\/td>\n",
              "    <\/tr>\n",
              "    <tr>\n",
              "      <th>108<\/th>\n",
              "      <td>India<\/td>\n",
              "      <td>Physics<\/td>\n",
              "      <td>1<\/td>\n",
              "      <td>9<\/td>\n",
              "    <\/tr>\n",
              "  <\/tbody>\n",
              "<\/table>\n",
              "<p>109 rows × 4 columns<\/p>\n",
              "<\/div>"
            ]
          },
          "metadata":{
            
          },
          "output_type":"display_data"
        }
      ],
      "metadata":{
        
      }
    },
    {
      "cell_type":"code",
      "source":[
        "h_bar = px.bar(x = merged_df.cat_prize,\n",
        "               y = merged_df.birth_country_current,\n",
        "               orientation ='h',\n",
        "               color=merged_df.category,\n",
        "               title = 'Top 20 Coutries with Nobel Prizes per CategoryA')\n",
        "\n",
        "h_bar.update_layout(xaxis_title = 'Number of Prizes', yaxis_title='Coutry', coloraxis_showscale = False)\n",
        "h_bar.update_yaxes(autorange=\"reversed\")\n",
        "\n",
        "h_bar.show()"
      ],
      "execution_count":64,
      "outputs":[
        {
          "data":{
            "text\/plain":[
              "Unsupported"
            ]
          },
          "metadata":{
            
          },
          "output_type":"display_data"
        }
      ],
      "metadata":{
        
      }
    },
    {
      "cell_type":"code",
      "source":[
        
      ],
      "execution_count":0,
      "outputs":[
        
      ],
      "metadata":{
        
      }
    },
    {
      "cell_type":"code",
      "source":[
        
      ],
      "execution_count":0,
      "outputs":[
        
      ],
      "metadata":{
        
      }
    },
    {
      "cell_type":"markdown",
      "source":[
        "### Number of Prizes Won by Each Country Over Time\n",
        "\n",
        "* When did the United States eclipse every other country in terms of the number of prizes won? \n",
        "* Which country or countries were leading previously?\n",
        "* Calculate the cumulative number of prizes won by each country in every year. Again, use the `birth_country_current` of the winner to calculate this. \n",
        "* Create a [plotly line chart](https:\/\/plotly.com\/python\/line-charts\/) where each country is a coloured line. "
      ],
      "attachments":{
        
      },
      "metadata":{
        
      }
    },
    {
      "cell_type":"code",
      "source":[
        "prizes_per_year_country = df_data.groupby(by=['year', 'birth_country_current'], as_index=False).count()\n",
        "prizes_per_year_country.sort_values('year')[['year', 'birth_country_current', 'prize']]"
      ],
      "execution_count":80,
      "outputs":[
        {
          "data":{
            "text\/html":[
              "<div>\n",
              "<style scoped>\n",
              "    .dataframe tbody tr th:only-of-type {\n",
              "        vertical-align: middle;\n",
              "    }\n",
              "\n",
              "    .dataframe tbody tr th {\n",
              "        vertical-align: top;\n",
              "    }\n",
              "\n",
              "    .dataframe thead th {\n",
              "        text-align: right;\n",
              "    }\n",
              "<\/style>\n",
              "<table border=\"1\" class=\"dataframe\">\n",
              "  <thead>\n",
              "    <tr style=\"text-align: right;\">\n",
              "      <th><\/th>\n",
              "      <th>year<\/th>\n",
              "      <th>birth_country_current<\/th>\n",
              "      <th>prize<\/th>\n",
              "    <\/tr>\n",
              "  <\/thead>\n",
              "  <tbody>\n",
              "    <tr>\n",
              "      <th>0<\/th>\n",
              "      <td>1901<\/td>\n",
              "      <td>France<\/td>\n",
              "      <td>2<\/td>\n",
              "    <\/tr>\n",
              "    <tr>\n",
              "      <th>1<\/th>\n",
              "      <td>1901<\/td>\n",
              "      <td>Germany<\/td>\n",
              "      <td>1<\/td>\n",
              "    <\/tr>\n",
              "    <tr>\n",
              "      <th>2<\/th>\n",
              "      <td>1901<\/td>\n",
              "      <td>Netherlands<\/td>\n",
              "      <td>1<\/td>\n",
              "    <\/tr>\n",
              "    <tr>\n",
              "      <th>3<\/th>\n",
              "      <td>1901<\/td>\n",
              "      <td>Poland<\/td>\n",
              "      <td>1<\/td>\n",
              "    <\/tr>\n",
              "    <tr>\n",
              "      <th>4<\/th>\n",
              "      <td>1901<\/td>\n",
              "      <td>Switzerland<\/td>\n",
              "      <td>1<\/td>\n",
              "    <\/tr>\n",
              "    <tr>\n",
              "      <th>...<\/th>\n",
              "      <td>...<\/td>\n",
              "      <td>...<\/td>\n",
              "      <td>...<\/td>\n",
              "    <\/tr>\n",
              "    <tr>\n",
              "      <th>617<\/th>\n",
              "      <td>2019<\/td>\n",
              "      <td>Germany<\/td>\n",
              "      <td>1<\/td>\n",
              "    <\/tr>\n",
              "    <tr>\n",
              "      <th>625<\/th>\n",
              "      <td>2020<\/td>\n",
              "      <td>United Kingdom<\/td>\n",
              "      <td>2<\/td>\n",
              "    <\/tr>\n",
              "    <tr>\n",
              "      <th>623<\/th>\n",
              "      <td>2020<\/td>\n",
              "      <td>France<\/td>\n",
              "      <td>1<\/td>\n",
              "    <\/tr>\n",
              "    <tr>\n",
              "      <th>624<\/th>\n",
              "      <td>2020<\/td>\n",
              "      <td>Germany<\/td>\n",
              "      <td>1<\/td>\n",
              "    <\/tr>\n",
              "    <tr>\n",
              "      <th>626<\/th>\n",
              "      <td>2020<\/td>\n",
              "      <td>United States of America<\/td>\n",
              "      <td>7<\/td>\n",
              "    <\/tr>\n",
              "  <\/tbody>\n",
              "<\/table>\n",
              "<p>627 rows × 3 columns<\/p>\n",
              "<\/div>"
            ]
          },
          "metadata":{
            
          },
          "output_type":"display_data"
        }
      ],
      "metadata":{
        
      }
    },
    {
      "cell_type":"code",
      "source":[
        "cumulative_prizes = prizes_per_year_country.groupby(by=['birth_country_current',\n",
        "                                              'year']).sum().groupby(level=[0]).cumsum()\n",
        "cumulative_prizes.reset_index(inplace=True)\n",
        "cumulative_prizes"
      ],
      "execution_count":92,
      "outputs":[
        {
          "data":{
            "text\/html":[
              "<div>\n",
              "<style scoped>\n",
              "    .dataframe tbody tr th:only-of-type {\n",
              "        vertical-align: middle;\n",
              "    }\n",
              "\n",
              "    .dataframe tbody tr th {\n",
              "        vertical-align: top;\n",
              "    }\n",
              "\n",
              "    .dataframe thead th {\n",
              "        text-align: right;\n",
              "    }\n",
              "<\/style>\n",
              "<table border=\"1\" class=\"dataframe\">\n",
              "  <thead>\n",
              "    <tr style=\"text-align: right;\">\n",
              "      <th><\/th>\n",
              "      <th>birth_country_current<\/th>\n",
              "      <th>year<\/th>\n",
              "      <th>category<\/th>\n",
              "      <th>prize<\/th>\n",
              "      <th>motivation<\/th>\n",
              "      <th>prize_share<\/th>\n",
              "      <th>laureate_type<\/th>\n",
              "      <th>full_name<\/th>\n",
              "      <th>birth_date<\/th>\n",
              "      <th>birth_city<\/th>\n",
              "      <th>birth_country<\/th>\n",
              "      <th>sex<\/th>\n",
              "      <th>organization_name<\/th>\n",
              "      <th>organization_city<\/th>\n",
              "      <th>organization_country<\/th>\n",
              "      <th>ISO<\/th>\n",
              "      <th>share_pct<\/th>\n",
              "    <\/tr>\n",
              "  <\/thead>\n",
              "  <tbody>\n",
              "    <tr>\n",
              "      <th>0<\/th>\n",
              "      <td>Algeria<\/td>\n",
              "      <td>1957<\/td>\n",
              "      <td>1<\/td>\n",
              "      <td>1<\/td>\n",
              "      <td>1<\/td>\n",
              "      <td>1<\/td>\n",
              "      <td>1<\/td>\n",
              "      <td>1<\/td>\n",
              "      <td>1<\/td>\n",
              "      <td>1<\/td>\n",
              "      <td>1<\/td>\n",
              "      <td>1<\/td>\n",
              "      <td>0<\/td>\n",
              "      <td>0<\/td>\n",
              "      <td>0<\/td>\n",
              "      <td>1<\/td>\n",
              "      <td>1<\/td>\n",
              "    <\/tr>\n",
              "    <tr>\n",
              "      <th>1<\/th>\n",
              "      <td>Algeria<\/td>\n",
              "      <td>1997<\/td>\n",
              "      <td>2<\/td>\n",
              "      <td>2<\/td>\n",
              "      <td>2<\/td>\n",
              "      <td>2<\/td>\n",
              "      <td>2<\/td>\n",
              "      <td>2<\/td>\n",
              "      <td>2<\/td>\n",
              "      <td>2<\/td>\n",
              "      <td>2<\/td>\n",
              "      <td>2<\/td>\n",
              "      <td>1<\/td>\n",
              "      <td>1<\/td>\n",
              "      <td>1<\/td>\n",
              "      <td>2<\/td>\n",
              "      <td>2<\/td>\n",
              "    <\/tr>\n",
              "    <tr>\n",
              "      <th>2<\/th>\n",
              "      <td>Argentina<\/td>\n",
              "      <td>1936<\/td>\n",
              "      <td>1<\/td>\n",
              "      <td>1<\/td>\n",
              "      <td>0<\/td>\n",
              "      <td>1<\/td>\n",
              "      <td>1<\/td>\n",
              "      <td>1<\/td>\n",
              "      <td>1<\/td>\n",
              "      <td>1<\/td>\n",
              "      <td>1<\/td>\n",
              "      <td>1<\/td>\n",
              "      <td>0<\/td>\n",
              "      <td>0<\/td>\n",
              "      <td>0<\/td>\n",
              "      <td>1<\/td>\n",
              "      <td>1<\/td>\n",
              "    <\/tr>\n",
              "    <tr>\n",
              "      <th>3<\/th>\n",
              "      <td>Argentina<\/td>\n",
              "      <td>1947<\/td>\n",
              "      <td>2<\/td>\n",
              "      <td>2<\/td>\n",
              "      <td>1<\/td>\n",
              "      <td>2<\/td>\n",
              "      <td>2<\/td>\n",
              "      <td>2<\/td>\n",
              "      <td>2<\/td>\n",
              "      <td>2<\/td>\n",
              "      <td>2<\/td>\n",
              "      <td>2<\/td>\n",
              "      <td>1<\/td>\n",
              "      <td>1<\/td>\n",
              "      <td>1<\/td>\n",
              "      <td>2<\/td>\n",
              "      <td>2<\/td>\n",
              "    <\/tr>\n",
              "    <tr>\n",
              "      <th>4<\/th>\n",
              "      <td>Argentina<\/td>\n",
              "      <td>1980<\/td>\n",
              "      <td>3<\/td>\n",
              "      <td>3<\/td>\n",
              "      <td>1<\/td>\n",
              "      <td>3<\/td>\n",
              "      <td>3<\/td>\n",
              "      <td>3<\/td>\n",
              "      <td>3<\/td>\n",
              "      <td>3<\/td>\n",
              "      <td>3<\/td>\n",
              "      <td>3<\/td>\n",
              "      <td>1<\/td>\n",
              "      <td>1<\/td>\n",
              "      <td>1<\/td>\n",
              "      <td>3<\/td>\n",
              "      <td>3<\/td>\n",
              "    <\/tr>\n",
              "    <tr>\n",
              "      <th>...<\/th>\n",
              "      <td>...<\/td>\n",
              "      <td>...<\/td>\n",
              "      <td>...<\/td>\n",
              "      <td>...<\/td>\n",
              "      <td>...<\/td>\n",
              "      <td>...<\/td>\n",
              "      <td>...<\/td>\n",
              "      <td>...<\/td>\n",
              "      <td>...<\/td>\n",
              "      <td>...<\/td>\n",
              "      <td>...<\/td>\n",
              "      <td>...<\/td>\n",
              "      <td>...<\/td>\n",
              "      <td>...<\/td>\n",
              "      <td>...<\/td>\n",
              "      <td>...<\/td>\n",
              "      <td>...<\/td>\n",
              "    <\/tr>\n",
              "    <tr>\n",
              "      <th>622<\/th>\n",
              "      <td>United States of America<\/td>\n",
              "      <td>2020<\/td>\n",
              "      <td>281<\/td>\n",
              "      <td>281<\/td>\n",
              "      <td>266<\/td>\n",
              "      <td>281<\/td>\n",
              "      <td>281<\/td>\n",
              "      <td>281<\/td>\n",
              "      <td>281<\/td>\n",
              "      <td>281<\/td>\n",
              "      <td>281<\/td>\n",
              "      <td>281<\/td>\n",
              "      <td>253<\/td>\n",
              "      <td>252<\/td>\n",
              "      <td>253<\/td>\n",
              "      <td>281<\/td>\n",
              "      <td>281<\/td>\n",
              "    <\/tr>\n",
              "    <tr>\n",
              "      <th>623<\/th>\n",
              "      <td>Venezuela<\/td>\n",
              "      <td>1980<\/td>\n",
              "      <td>1<\/td>\n",
              "      <td>1<\/td>\n",
              "      <td>1<\/td>\n",
              "      <td>1<\/td>\n",
              "      <td>1<\/td>\n",
              "      <td>1<\/td>\n",
              "      <td>1<\/td>\n",
              "      <td>1<\/td>\n",
              "      <td>1<\/td>\n",
              "      <td>1<\/td>\n",
              "      <td>1<\/td>\n",
              "      <td>1<\/td>\n",
              "      <td>1<\/td>\n",
              "      <td>1<\/td>\n",
              "      <td>1<\/td>\n",
              "    <\/tr>\n",
              "    <tr>\n",
              "      <th>624<\/th>\n",
              "      <td>Vietnam<\/td>\n",
              "      <td>1973<\/td>\n",
              "      <td>1<\/td>\n",
              "      <td>1<\/td>\n",
              "      <td>0<\/td>\n",
              "      <td>1<\/td>\n",
              "      <td>1<\/td>\n",
              "      <td>1<\/td>\n",
              "      <td>1<\/td>\n",
              "      <td>1<\/td>\n",
              "      <td>1<\/td>\n",
              "      <td>1<\/td>\n",
              "      <td>0<\/td>\n",
              "      <td>0<\/td>\n",
              "      <td>0<\/td>\n",
              "      <td>1<\/td>\n",
              "      <td>1<\/td>\n",
              "    <\/tr>\n",
              "    <tr>\n",
              "      <th>625<\/th>\n",
              "      <td>Yemen<\/td>\n",
              "      <td>2011<\/td>\n",
              "      <td>1<\/td>\n",
              "      <td>1<\/td>\n",
              "      <td>1<\/td>\n",
              "      <td>1<\/td>\n",
              "      <td>1<\/td>\n",
              "      <td>1<\/td>\n",
              "      <td>1<\/td>\n",
              "      <td>1<\/td>\n",
              "      <td>1<\/td>\n",
              "      <td>1<\/td>\n",
              "      <td>0<\/td>\n",
              "      <td>0<\/td>\n",
              "      <td>0<\/td>\n",
              "      <td>1<\/td>\n",
              "      <td>1<\/td>\n",
              "    <\/tr>\n",
              "    <tr>\n",
              "      <th>626<\/th>\n",
              "      <td>Zimbabwe<\/td>\n",
              "      <td>1960<\/td>\n",
              "      <td>1<\/td>\n",
              "      <td>1<\/td>\n",
              "      <td>0<\/td>\n",
              "      <td>1<\/td>\n",
              "      <td>1<\/td>\n",
              "      <td>1<\/td>\n",
              "      <td>1<\/td>\n",
              "      <td>1<\/td>\n",
              "      <td>1<\/td>\n",
              "      <td>1<\/td>\n",
              "      <td>0<\/td>\n",
              "      <td>0<\/td>\n",
              "      <td>0<\/td>\n",
              "      <td>1<\/td>\n",
              "      <td>1<\/td>\n",
              "    <\/tr>\n",
              "  <\/tbody>\n",
              "<\/table>\n",
              "<p>627 rows × 17 columns<\/p>\n",
              "<\/div>"
            ]
          },
          "metadata":{
            
          },
          "output_type":"display_data"
        }
      ],
      "metadata":{
        
      }
    },
    {
      "cell_type":"code",
      "source":[
        "fig = px.line(cumulative_prizes,\n",
        "              x = 'year',\n",
        "               y = 'prize',\n",
        "              color='birth_country_current',\n",
        "               title = 'Prizes per Year')\n",
        "\n",
        "fig.update_layout(xaxis_title = 'Year', yaxis_title='Number of Prizes')\n",
        "\n",
        "fig.show()"
      ],
      "execution_count":95,
      "outputs":[
        {
          "data":{
            "text\/plain":[
              "Unsupported"
            ]
          },
          "metadata":{
            
          },
          "output_type":"display_data"
        }
      ],
      "metadata":{
        
      }
    },
    {
      "cell_type":"code",
      "source":[
        
      ],
      "execution_count":0,
      "outputs":[
        
      ],
      "metadata":{
        
      }
    },
    {
      "cell_type":"code",
      "source":[
        
      ],
      "execution_count":0,
      "outputs":[
        
      ],
      "metadata":{
        
      }
    },
    {
      "cell_type":"code",
      "source":[
        
      ],
      "execution_count":0,
      "outputs":[
        
      ],
      "metadata":{
        
      }
    },
    {
      "cell_type":"code",
      "source":[
        
      ],
      "execution_count":0,
      "outputs":[
        
      ],
      "metadata":{
        
      }
    },
    {
      "cell_type":"markdown",
      "source":[
        "# What are the Top Research Organisations?\n",
        "\n",
        "**Challenge**: Create a bar chart showing the organisations affiliated with the Nobel laureates. It should looks something like this:\n",
        "\n",
        "<img src=https:\/\/i.imgur.com\/zZihj2p.png width=600>\n",
        "\n",
        "* Which organisations make up the top 20?\n",
        "* How many Nobel prize winners are affiliated with the University of Chicago and Harvard University?"
      ],
      "attachments":{
        
      },
      "metadata":{
        
      }
    },
    {
      "cell_type":"code",
      "source":[
        "df_data.head()"
      ],
      "execution_count":96,
      "outputs":[
        {
          "data":{
            "text\/html":[
              "<div>\n",
              "<style scoped>\n",
              "    .dataframe tbody tr th:only-of-type {\n",
              "        vertical-align: middle;\n",
              "    }\n",
              "\n",
              "    .dataframe tbody tr th {\n",
              "        vertical-align: top;\n",
              "    }\n",
              "\n",
              "    .dataframe thead th {\n",
              "        text-align: right;\n",
              "    }\n",
              "<\/style>\n",
              "<table border=\"1\" class=\"dataframe\">\n",
              "  <thead>\n",
              "    <tr style=\"text-align: right;\">\n",
              "      <th><\/th>\n",
              "      <th>year<\/th>\n",
              "      <th>category<\/th>\n",
              "      <th>prize<\/th>\n",
              "      <th>motivation<\/th>\n",
              "      <th>prize_share<\/th>\n",
              "      <th>laureate_type<\/th>\n",
              "      <th>full_name<\/th>\n",
              "      <th>birth_date<\/th>\n",
              "      <th>birth_city<\/th>\n",
              "      <th>birth_country<\/th>\n",
              "      <th>birth_country_current<\/th>\n",
              "      <th>sex<\/th>\n",
              "      <th>organization_name<\/th>\n",
              "      <th>organization_city<\/th>\n",
              "      <th>organization_country<\/th>\n",
              "      <th>ISO<\/th>\n",
              "      <th>share_pct<\/th>\n",
              "    <\/tr>\n",
              "  <\/thead>\n",
              "  <tbody>\n",
              "    <tr>\n",
              "      <th>0<\/th>\n",
              "      <td>1901<\/td>\n",
              "      <td>Chemistry<\/td>\n",
              "      <td>The Nobel Prize in Chemistry 1901<\/td>\n",
              "      <td>\"in recognition of the extraordinary services ...<\/td>\n",
              "      <td>1\/1<\/td>\n",
              "      <td>Individual<\/td>\n",
              "      <td>Jacobus Henricus van 't Hoff<\/td>\n",
              "      <td>1852-08-30<\/td>\n",
              "      <td>Rotterdam<\/td>\n",
              "      <td>Netherlands<\/td>\n",
              "      <td>Netherlands<\/td>\n",
              "      <td>Male<\/td>\n",
              "      <td>Berlin University<\/td>\n",
              "      <td>Berlin<\/td>\n",
              "      <td>Germany<\/td>\n",
              "      <td>NLD<\/td>\n",
              "      <td>1.00<\/td>\n",
              "    <\/tr>\n",
              "    <tr>\n",
              "      <th>1<\/th>\n",
              "      <td>1901<\/td>\n",
              "      <td>Literature<\/td>\n",
              "      <td>The Nobel Prize in Literature 1901<\/td>\n",
              "      <td>\"in special recognition of his poetic composit...<\/td>\n",
              "      <td>1\/1<\/td>\n",
              "      <td>Individual<\/td>\n",
              "      <td>Sully Prudhomme<\/td>\n",
              "      <td>1839-03-16<\/td>\n",
              "      <td>Paris<\/td>\n",
              "      <td>France<\/td>\n",
              "      <td>France<\/td>\n",
              "      <td>Male<\/td>\n",
              "      <td>NaN<\/td>\n",
              "      <td>NaN<\/td>\n",
              "      <td>NaN<\/td>\n",
              "      <td>FRA<\/td>\n",
              "      <td>1.00<\/td>\n",
              "    <\/tr>\n",
              "    <tr>\n",
              "      <th>2<\/th>\n",
              "      <td>1901<\/td>\n",
              "      <td>Medicine<\/td>\n",
              "      <td>The Nobel Prize in Physiology or Medicine 1901<\/td>\n",
              "      <td>\"for his work on serum therapy, especially its...<\/td>\n",
              "      <td>1\/1<\/td>\n",
              "      <td>Individual<\/td>\n",
              "      <td>Emil Adolf von Behring<\/td>\n",
              "      <td>1854-03-15<\/td>\n",
              "      <td>Hansdorf (Lawice)<\/td>\n",
              "      <td>Prussia (Poland)<\/td>\n",
              "      <td>Poland<\/td>\n",
              "      <td>Male<\/td>\n",
              "      <td>Marburg University<\/td>\n",
              "      <td>Marburg<\/td>\n",
              "      <td>Germany<\/td>\n",
              "      <td>POL<\/td>\n",
              "      <td>1.00<\/td>\n",
              "    <\/tr>\n",
              "    <tr>\n",
              "      <th>3<\/th>\n",
              "      <td>1901<\/td>\n",
              "      <td>Peace<\/td>\n",
              "      <td>The Nobel Peace Prize 1901<\/td>\n",
              "      <td>NaN<\/td>\n",
              "      <td>1\/2<\/td>\n",
              "      <td>Individual<\/td>\n",
              "      <td>Frédéric Passy<\/td>\n",
              "      <td>1822-05-20<\/td>\n",
              "      <td>Paris<\/td>\n",
              "      <td>France<\/td>\n",
              "      <td>France<\/td>\n",
              "      <td>Male<\/td>\n",
              "      <td>NaN<\/td>\n",
              "      <td>NaN<\/td>\n",
              "      <td>NaN<\/td>\n",
              "      <td>FRA<\/td>\n",
              "      <td>0.50<\/td>\n",
              "    <\/tr>\n",
              "    <tr>\n",
              "      <th>4<\/th>\n",
              "      <td>1901<\/td>\n",
              "      <td>Peace<\/td>\n",
              "      <td>The Nobel Peace Prize 1901<\/td>\n",
              "      <td>NaN<\/td>\n",
              "      <td>1\/2<\/td>\n",
              "      <td>Individual<\/td>\n",
              "      <td>Jean Henry Dunant<\/td>\n",
              "      <td>1828-05-08<\/td>\n",
              "      <td>Geneva<\/td>\n",
              "      <td>Switzerland<\/td>\n",
              "      <td>Switzerland<\/td>\n",
              "      <td>Male<\/td>\n",
              "      <td>NaN<\/td>\n",
              "      <td>NaN<\/td>\n",
              "      <td>NaN<\/td>\n",
              "      <td>CHE<\/td>\n",
              "      <td>0.50<\/td>\n",
              "    <\/tr>\n",
              "  <\/tbody>\n",
              "<\/table>\n",
              "<\/div>"
            ]
          },
          "metadata":{
            
          },
          "output_type":"display_data"
        }
      ],
      "metadata":{
        
      }
    },
    {
      "cell_type":"code",
      "source":[
        "org_prizes = df_data.groupby(by='organization_name').agg({'prize': pd.Series.count})\n",
        "org_prizes.sort_values(by='prize', ascending=False, inplace=True)\n",
        "top20_org = org_prizes[:20]"
      ],
      "execution_count":110,
      "outputs":[
        
      ],
      "metadata":{
        
      }
    },
    {
      "cell_type":"code",
      "source":[
        "fig = px.bar(top20_org,\n",
        "             x='prize',\n",
        "             y=top20_org.index,\n",
        "             orientation='h',\n",
        "             color='prize',\n",
        "             title='Top 20 Research Institutions by Number of Prizes')\n",
        "\n",
        "fig.update_layout(xaxis_title = 'Number of Prizes', yaxis_title='Organization', coloraxis_showscale = False)\n",
        "fig.update_yaxes(autorange=\"reversed\")"
      ],
      "execution_count":112,
      "outputs":[
        {
          "data":{
            "text\/plain":[
              "Unsupported"
            ]
          },
          "metadata":{
            
          },
          "output_type":"display_data"
        }
      ],
      "metadata":{
        
      }
    },
    {
      "cell_type":"code",
      "source":[
        
      ],
      "execution_count":0,
      "outputs":[
        
      ],
      "metadata":{
        
      }
    },
    {
      "cell_type":"code",
      "source":[
        
      ],
      "execution_count":0,
      "outputs":[
        
      ],
      "metadata":{
        
      }
    },
    {
      "cell_type":"code",
      "source":[
        
      ],
      "execution_count":0,
      "outputs":[
        
      ],
      "metadata":{
        
      }
    },
    {
      "cell_type":"markdown",
      "source":[
        "# Which Cities Make the Most Discoveries? \n",
        "\n",
        "Where do major discoveries take place?  \n",
        "\n",
        "**Challenge**: \n",
        "* Create another plotly bar chart graphing the top 20 organisation cities of the research institutions associated with a Nobel laureate. \n",
        "* Where is the number one hotspot for discoveries in the world?\n",
        "* Which city in Europe has had the most discoveries?"
      ],
      "attachments":{
        
      },
      "metadata":{
        
      }
    },
    {
      "cell_type":"code",
      "source":[
        "df_data.sample()"
      ],
      "execution_count":113,
      "outputs":[
        {
          "data":{
            "text\/html":[
              "<div>\n",
              "<style scoped>\n",
              "    .dataframe tbody tr th:only-of-type {\n",
              "        vertical-align: middle;\n",
              "    }\n",
              "\n",
              "    .dataframe tbody tr th {\n",
              "        vertical-align: top;\n",
              "    }\n",
              "\n",
              "    .dataframe thead th {\n",
              "        text-align: right;\n",
              "    }\n",
              "<\/style>\n",
              "<table border=\"1\" class=\"dataframe\">\n",
              "  <thead>\n",
              "    <tr style=\"text-align: right;\">\n",
              "      <th><\/th>\n",
              "      <th>year<\/th>\n",
              "      <th>category<\/th>\n",
              "      <th>prize<\/th>\n",
              "      <th>motivation<\/th>\n",
              "      <th>prize_share<\/th>\n",
              "      <th>laureate_type<\/th>\n",
              "      <th>full_name<\/th>\n",
              "      <th>birth_date<\/th>\n",
              "      <th>birth_city<\/th>\n",
              "      <th>birth_country<\/th>\n",
              "      <th>birth_country_current<\/th>\n",
              "      <th>sex<\/th>\n",
              "      <th>organization_name<\/th>\n",
              "      <th>organization_city<\/th>\n",
              "      <th>organization_country<\/th>\n",
              "      <th>ISO<\/th>\n",
              "      <th>share_pct<\/th>\n",
              "    <\/tr>\n",
              "  <\/thead>\n",
              "  <tbody>\n",
              "    <tr>\n",
              "      <th>499<\/th>\n",
              "      <td>1979<\/td>\n",
              "      <td>Medicine<\/td>\n",
              "      <td>The Nobel Prize in Physiology or Medicine 1979<\/td>\n",
              "      <td>\"for the development of computer assisted tomo...<\/td>\n",
              "      <td>1\/2<\/td>\n",
              "      <td>Individual<\/td>\n",
              "      <td>Allan M. Cormack<\/td>\n",
              "      <td>1924-02-23<\/td>\n",
              "      <td>Johannesburg<\/td>\n",
              "      <td>South Africa<\/td>\n",
              "      <td>South Africa<\/td>\n",
              "      <td>Male<\/td>\n",
              "      <td>Tufts University<\/td>\n",
              "      <td>Medford, MA<\/td>\n",
              "      <td>United States of America<\/td>\n",
              "      <td>ZAF<\/td>\n",
              "      <td>0.50<\/td>\n",
              "    <\/tr>\n",
              "  <\/tbody>\n",
              "<\/table>\n",
              "<\/div>"
            ]
          },
          "metadata":{
            
          },
          "output_type":"display_data"
        }
      ],
      "metadata":{
        
      }
    },
    {
      "cell_type":"code",
      "source":[
        "prize_city = df_data.groupby(by='organization_city').agg({'prize': pd.Series.count})\n",
        "prize_city.sort_values(by='prize', ascending=False, inplace=True)\n",
        "top20_cities = prize_city[:20]"
      ],
      "execution_count":118,
      "outputs":[
        
      ],
      "metadata":{
        
      }
    },
    {
      "cell_type":"code",
      "source":[
        "fig = px.bar(top20_cities,\n",
        "             x='prize',\n",
        "             y=top20_cities.index,\n",
        "             orientation='h',\n",
        "             color='prize',\n",
        "             title='Top 20 Cities where Research Institutions are located at.')\n",
        "\n",
        "fig.update_layout(xaxis_title = 'Number of Prizes', yaxis_title='City', coloraxis_showscale = False)\n",
        "fig.update_yaxes(autorange=\"reversed\")"
      ],
      "execution_count":123,
      "outputs":[
        {
          "data":{
            "text\/plain":[
              "Unsupported"
            ]
          },
          "metadata":{
            
          },
          "output_type":"display_data"
        }
      ],
      "metadata":{
        
      }
    },
    {
      "cell_type":"markdown",
      "source":[
        "# Where are Nobel Laureates Born? Chart the Laureate Birth Cities \n",
        "\n",
        "**Challenge**: \n",
        "* Create a plotly bar chart graphing the top 20 birth cities of Nobel laureates. \n",
        "* Use a named colour scale called `Plasma` for the chart.\n",
        "* What percentage of the United States prizes came from Nobel laureates born in New York? \n",
        "* How many Nobel laureates were born in London, Paris and Vienna? \n",
        "* Out of the top 5 cities, how many are in the United States?"
      ],
      "attachments":{
        
      },
      "metadata":{
        
      }
    },
    {
      "cell_type":"code",
      "source":[
        "birth_city = df_data.groupby(by='birth_city').agg({'prize': pd.Series.count})\n",
        "birth_city.sort_values(by='prize', ascending=False, inplace=True)\n",
        "top20_birth_cities = birth_city[:20]\n",
        "top20_birth_cities"
      ],
      "execution_count":122,
      "outputs":[
        {
          "data":{
            "text\/html":[
              "<div>\n",
              "<style scoped>\n",
              "    .dataframe tbody tr th:only-of-type {\n",
              "        vertical-align: middle;\n",
              "    }\n",
              "\n",
              "    .dataframe tbody tr th {\n",
              "        vertical-align: top;\n",
              "    }\n",
              "\n",
              "    .dataframe thead th {\n",
              "        text-align: right;\n",
              "    }\n",
              "<\/style>\n",
              "<table border=\"1\" class=\"dataframe\">\n",
              "  <thead>\n",
              "    <tr style=\"text-align: right;\">\n",
              "      <th><\/th>\n",
              "      <th>prize<\/th>\n",
              "    <\/tr>\n",
              "    <tr>\n",
              "      <th>birth_city<\/th>\n",
              "      <th><\/th>\n",
              "    <\/tr>\n",
              "  <\/thead>\n",
              "  <tbody>\n",
              "    <tr>\n",
              "      <th>New York, NY<\/th>\n",
              "      <td>53<\/td>\n",
              "    <\/tr>\n",
              "    <tr>\n",
              "      <th>Paris<\/th>\n",
              "      <td>26<\/td>\n",
              "    <\/tr>\n",
              "    <tr>\n",
              "      <th>London<\/th>\n",
              "      <td>19<\/td>\n",
              "    <\/tr>\n",
              "    <tr>\n",
              "      <th>Vienna<\/th>\n",
              "      <td>14<\/td>\n",
              "    <\/tr>\n",
              "    <tr>\n",
              "      <th>Chicago, IL<\/th>\n",
              "      <td>12<\/td>\n",
              "    <\/tr>\n",
              "    <tr>\n",
              "      <th>Berlin<\/th>\n",
              "      <td>11<\/td>\n",
              "    <\/tr>\n",
              "    <tr>\n",
              "      <th>Washington, DC<\/th>\n",
              "      <td>8<\/td>\n",
              "    <\/tr>\n",
              "    <tr>\n",
              "      <th>Brooklyn, NY<\/th>\n",
              "      <td>8<\/td>\n",
              "    <\/tr>\n",
              "    <tr>\n",
              "      <th>Budapest<\/th>\n",
              "      <td>8<\/td>\n",
              "    <\/tr>\n",
              "    <tr>\n",
              "      <th>Boston, MA<\/th>\n",
              "      <td>8<\/td>\n",
              "    <\/tr>\n",
              "    <tr>\n",
              "      <th>Munich<\/th>\n",
              "      <td>7<\/td>\n",
              "    <\/tr>\n",
              "    <tr>\n",
              "      <th>Moscow<\/th>\n",
              "      <td>7<\/td>\n",
              "    <\/tr>\n",
              "    <tr>\n",
              "      <th>Stockholm<\/th>\n",
              "      <td>6<\/td>\n",
              "    <\/tr>\n",
              "    <tr>\n",
              "      <th>Hamburg<\/th>\n",
              "      <td>6<\/td>\n",
              "    <\/tr>\n",
              "    <tr>\n",
              "      <th>Prague<\/th>\n",
              "      <td>5<\/td>\n",
              "    <\/tr>\n",
              "    <tr>\n",
              "      <th>Frankfurt-on-the-Main<\/th>\n",
              "      <td>5<\/td>\n",
              "    <\/tr>\n",
              "    <tr>\n",
              "      <th>Pittsburgh, PA<\/th>\n",
              "      <td>4<\/td>\n",
              "    <\/tr>\n",
              "    <tr>\n",
              "      <th>Montreal<\/th>\n",
              "      <td>4<\/td>\n",
              "    <\/tr>\n",
              "    <tr>\n",
              "      <th>Cairo<\/th>\n",
              "      <td>4<\/td>\n",
              "    <\/tr>\n",
              "    <tr>\n",
              "      <th>Cambridge, MA<\/th>\n",
              "      <td>3<\/td>\n",
              "    <\/tr>\n",
              "  <\/tbody>\n",
              "<\/table>\n",
              "<\/div>"
            ]
          },
          "metadata":{
            
          },
          "output_type":"display_data"
        }
      ],
      "metadata":{
        
      }
    },
    {
      "cell_type":"code",
      "source":[
        "fig = px.bar(top20_birth_cities,\n",
        "             x='prize',\n",
        "             y=top20_birth_cities.index,\n",
        "             orientation='h',\n",
        "             color='prize',\n",
        "             color_continuous_scale=px.colors.sequential.Plasma,\n",
        "             title='Top 20 Cities where Nobel Laureats were born.')\n",
        "\n",
        "fig.update_layout(xaxis_title = 'Number of Prizes', yaxis_title='City', coloraxis_showscale = False)\n",
        "fig.update_yaxes(autorange=\"reversed\")"
      ],
      "execution_count":125,
      "outputs":[
        {
          "data":{
            "text\/plain":[
              "Unsupported"
            ]
          },
          "metadata":{
            
          },
          "output_type":"display_data"
        }
      ],
      "metadata":{
        
      }
    },
    {
      "cell_type":"code",
      "source":[
        "NY_laurets = top20_birth_cities.loc['New York, NY'].prize\n",
        "USA_laureats = df_data[df_data.birth_country_current == 'United States of America'].prize.count()\n",
        "print(f'NY laureats are {round(NY_laurets\/USA_laureats * 100,2)}% of all USA laureats.')"
      ],
      "execution_count":173,
      "outputs":[
        {
          "name":"stdout",
          "text":[
            "NY laureats are 18.86% of all USA laureats.\n"
          ],
          "output_type":"stream"
        }
      ],
      "metadata":{
        
      }
    },
    {
      "cell_type":"code",
      "source":[
        "london_laureats = top20_birth_cities.loc['London'].prize \n",
        "paris_laureats = top20_birth_cities.loc['Paris'].prize \n",
        "vienna_laureats = top20_birth_cities.loc['Vienna'].prize\n",
        "print(f'There are {london_laureats} laureats from London, {paris_laureats} laureats from Paris, {vienna_laureats} laureats from Vienna')"
      ],
      "execution_count":175,
      "outputs":[
        {
          "name":"stdout",
          "text":[
            "There are 19 laureats from London, 26 laureats from Paris, 14 laureats from Vienna\n"
          ],
          "output_type":"stream"
        }
      ],
      "metadata":{
        
      }
    },
    {
      "cell_type":"markdown",
      "source":[
        "# Plotly Sunburst Chart: Combine Country, City, and Organisation\n",
        "\n",
        "**Challenge**: \n",
        "\n",
        "* Create a DataFrame that groups the number of prizes by organisation. \n",
        "* Then use the [plotly documentation to create a sunburst chart](https:\/\/plotly.com\/python\/sunburst-charts\/)\n",
        "* Click around in your chart, what do you notice about Germany and France? \n",
        "\n",
        "\n",
        "Here's what you're aiming for:\n",
        "\n",
        "<img src=https:\/\/i.imgur.com\/cemX4m5.png width=300>\n"
      ],
      "attachments":{
        
      },
      "metadata":{
        
      }
    },
    {
      "cell_type":"code",
      "source":[
        
      ],
      "execution_count":0,
      "outputs":[
        
      ],
      "metadata":{
        
      }
    },
    {
      "cell_type":"code",
      "source":[
        
      ],
      "execution_count":0,
      "outputs":[
        
      ],
      "metadata":{
        
      }
    },
    {
      "cell_type":"code",
      "source":[
        
      ],
      "execution_count":0,
      "outputs":[
        
      ],
      "metadata":{
        
      }
    },
    {
      "cell_type":"markdown",
      "source":[
        "# Patterns in the Laureate Age at the Time of the Award\n",
        "\n",
        "How Old Are the Laureates When the Win the Prize?\n",
        "\n",
        "**Challenge**: Calculate the age of the laureate in the year of the ceremony and add this as a column called `winning_age` to the `df_data` DataFrame. Hint: you can use [this](https:\/\/pandas.pydata.org\/pandas-docs\/stable\/reference\/api\/pandas.Series.dt.html) to help you. \n"
      ],
      "attachments":{
        
      },
      "metadata":{
        
      }
    },
    {
      "cell_type":"code",
      "source":[
        
      ],
      "execution_count":0,
      "outputs":[
        
      ],
      "metadata":{
        
      }
    },
    {
      "cell_type":"code",
      "source":[
        
      ],
      "execution_count":0,
      "outputs":[
        
      ],
      "metadata":{
        
      }
    },
    {
      "cell_type":"code",
      "source":[
        
      ],
      "execution_count":0,
      "outputs":[
        
      ],
      "metadata":{
        
      }
    },
    {
      "cell_type":"markdown",
      "source":[
        "### Who were the oldest and youngest winners?\n",
        "\n",
        "**Challenge**: \n",
        "* What are the names of the youngest and oldest Nobel laureate? \n",
        "* What did they win the prize for?\n",
        "* What is the average age of a winner?\n",
        "* 75% of laureates are younger than what age when they receive the prize?\n",
        "* Use Seaborn to [create histogram](https:\/\/seaborn.pydata.org\/generated\/seaborn.histplot.html) to visualise the distribution of laureate age at the time of winning. Experiment with the number of `bins` to see how the visualisation changes."
      ],
      "attachments":{
        
      },
      "metadata":{
        
      }
    },
    {
      "cell_type":"code",
      "source":[
        
      ],
      "execution_count":0,
      "outputs":[
        
      ],
      "metadata":{
        
      }
    },
    {
      "cell_type":"code",
      "source":[
        
      ],
      "execution_count":0,
      "outputs":[
        
      ],
      "metadata":{
        
      }
    },
    {
      "cell_type":"markdown",
      "source":[
        "### Descriptive Statistics for the Laureate Age at Time of Award\n",
        "\n",
        "* Calculate the descriptive statistics for the age at the time of the award. \n",
        "* Then visualise the distribution in the form of a histogram using [Seaborn's .histplot() function](https:\/\/seaborn.pydata.org\/generated\/seaborn.histplot.html).\n",
        "* Experiment with the `bin` size. Try 10, 20, 30, and 50.  "
      ],
      "attachments":{
        
      },
      "metadata":{
        
      }
    },
    {
      "cell_type":"code",
      "source":[
        
      ],
      "execution_count":0,
      "outputs":[
        
      ],
      "metadata":{
        
      }
    },
    {
      "cell_type":"code",
      "source":[
        
      ],
      "execution_count":0,
      "outputs":[
        
      ],
      "metadata":{
        
      }
    },
    {
      "cell_type":"markdown",
      "source":[
        "### Age at Time of Award throughout History\n",
        "\n",
        "Are Nobel laureates being nominated later in life than before? Have the ages of laureates at the time of the award increased or decreased over time?\n",
        "\n",
        "**Challenge**\n",
        "\n",
        "* Use Seaborn to [create a .regplot](https:\/\/seaborn.pydata.org\/generated\/seaborn.regplot.html?highlight=regplot#seaborn.regplot) with a trendline.\n",
        "* Set the `lowess` parameter to `True` to show a moving average of the linear fit.\n",
        "* According to the best fit line, how old were Nobel laureates in the years 1900-1940 when they were awarded the prize?\n",
        "* According to the best fit line, what age would it predict for a Nobel laureate in 2020?"
      ],
      "attachments":{
        
      },
      "metadata":{
        
      }
    },
    {
      "cell_type":"code",
      "source":[
        
      ],
      "execution_count":0,
      "outputs":[
        
      ],
      "metadata":{
        
      }
    },
    {
      "cell_type":"code",
      "source":[
        
      ],
      "execution_count":0,
      "outputs":[
        
      ],
      "metadata":{
        
      }
    },
    {
      "cell_type":"markdown",
      "source":[
        "### Winning Age Across the Nobel Prize Categories\n",
        "\n",
        "How does the age of laureates vary by category? \n",
        "\n",
        "* Use Seaborn's [`.boxplot()`](https:\/\/seaborn.pydata.org\/generated\/seaborn.boxplot.html?highlight=boxplot#seaborn.boxplot) to show how the mean, quartiles, max, and minimum values vary across categories. Which category has the longest \"whiskers\"? \n",
        "* In which prize category are the average winners the oldest?\n",
        "* In which prize category are the average winners the youngest?"
      ],
      "attachments":{
        
      },
      "metadata":{
        
      }
    },
    {
      "cell_type":"code",
      "source":[
        
      ],
      "execution_count":0,
      "outputs":[
        
      ],
      "metadata":{
        
      }
    },
    {
      "cell_type":"code",
      "source":[
        
      ],
      "execution_count":0,
      "outputs":[
        
      ],
      "metadata":{
        
      }
    },
    {
      "cell_type":"markdown",
      "source":[
        "**Challenge**\n",
        "* Now use Seaborn's [`.lmplot()`](https:\/\/seaborn.pydata.org\/generated\/seaborn.lmplot.html?highlight=lmplot#seaborn.lmplot) and the `row` parameter to create 6 separate charts for each prize category. Again set `lowess` to `True`.\n",
        "* What are the winning age trends in each category? \n",
        "* Which category has the age trending up and which category has the age trending down? \n",
        "* Is this `.lmplot()` telling a different story from the `.boxplot()`?\n",
        "* Create another chart with Seaborn. This time use `.lmplot()` to put all 6 categories on the same chart using the `hue` parameter. "
      ],
      "attachments":{
        
      },
      "metadata":{
        
      }
    },
    {
      "cell_type":"code",
      "source":[
        
      ],
      "execution_count":0,
      "outputs":[
        
      ],
      "metadata":{
        
      }
    },
    {
      "cell_type":"code",
      "source":[
        
      ],
      "execution_count":0,
      "outputs":[
        
      ],
      "metadata":{
        
      }
    },
    {
      "cell_type":"code",
      "source":[
        
      ],
      "execution_count":0,
      "outputs":[
        
      ],
      "metadata":{
        
      }
    },
    {
      "cell_type":"code",
      "source":[
        
      ],
      "execution_count":0,
      "outputs":[
        
      ],
      "metadata":{
        
      }
    },
    {
      "cell_type":"code",
      "source":[
        
      ],
      "execution_count":0,
      "outputs":[
        
      ],
      "metadata":{
        
      }
    }
  ],
  "metadata":{
    
  },
  "nbformat":4,
  "nbformat_minor":0
}